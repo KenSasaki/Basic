{
 "cells": [
  {
   "cell_type": "markdown",
   "metadata": {},
   "source": [
    "# ベーシックステップ\n",
    "# 機械学習 PBL - 電力データを整理し現状を俯瞰する - サンプルコード\n",
    "copyright 2019 DataMix Co.,Ltd."
   ]
  },
  {
   "cell_type": "code",
   "execution_count": 2,
   "metadata": {},
   "outputs": [],
   "source": [
    "import pandas as pd\n",
    "import numpy as np\n",
    "import matplotlib\n",
    "import matplotlib.pyplot as plt\n",
    "from datetime import datetime as dt"
   ]
  },
  {
   "cell_type": "markdown",
   "metadata": {},
   "source": [
    "#### `electric_power_data_2014.csv`を読み込みます\n",
    "本ファイル(.ipynb)と electric_power_data_2014.csv の保存先に注意してください"
   ]
  },
  {
   "cell_type": "code",
   "execution_count": 3,
   "metadata": {},
   "outputs": [],
   "source": [
    "dataset = pd.read_csv(\"electric_power_data_2014.csv\")"
   ]
  },
  {
   "cell_type": "code",
   "execution_count": 4,
   "metadata": {
    "scrolled": false
   },
   "outputs": [
    {
     "data": {
      "text/html": [
       "<div>\n",
       "<style scoped>\n",
       "    .dataframe tbody tr th:only-of-type {\n",
       "        vertical-align: middle;\n",
       "    }\n",
       "\n",
       "    .dataframe tbody tr th {\n",
       "        vertical-align: top;\n",
       "    }\n",
       "\n",
       "    .dataframe thead th {\n",
       "        text-align: right;\n",
       "    }\n",
       "</style>\n",
       "<table border=\"1\" class=\"dataframe\">\n",
       "  <thead>\n",
       "    <tr style=\"text-align: right;\">\n",
       "      <th></th>\n",
       "      <th>time</th>\n",
       "      <th>MT_001</th>\n",
       "      <th>MT_002</th>\n",
       "      <th>MT_003</th>\n",
       "      <th>MT_004</th>\n",
       "      <th>MT_005</th>\n",
       "      <th>MT_006</th>\n",
       "      <th>MT_007</th>\n",
       "      <th>MT_008</th>\n",
       "      <th>MT_009</th>\n",
       "      <th>...</th>\n",
       "      <th>MT_361</th>\n",
       "      <th>MT_362</th>\n",
       "      <th>MT_363</th>\n",
       "      <th>MT_364</th>\n",
       "      <th>MT_365</th>\n",
       "      <th>MT_366</th>\n",
       "      <th>MT_367</th>\n",
       "      <th>MT_368</th>\n",
       "      <th>MT_369</th>\n",
       "      <th>MT_370</th>\n",
       "    </tr>\n",
       "  </thead>\n",
       "  <tbody>\n",
       "    <tr>\n",
       "      <th>0</th>\n",
       "      <td>2014-01-01 00:00:00</td>\n",
       "      <td>2.53807</td>\n",
       "      <td>24.004250</td>\n",
       "      <td>0.434405</td>\n",
       "      <td>148.88225</td>\n",
       "      <td>75.609750</td>\n",
       "      <td>276.04150</td>\n",
       "      <td>6.642168</td>\n",
       "      <td>247.47450</td>\n",
       "      <td>51.136375</td>\n",
       "      <td>...</td>\n",
       "      <td>100.285500</td>\n",
       "      <td>15475</td>\n",
       "      <td>1161.39275</td>\n",
       "      <td>1011.36375</td>\n",
       "      <td>17.275100</td>\n",
       "      <td>9.362220</td>\n",
       "      <td>237.48900</td>\n",
       "      <td>46.327225</td>\n",
       "      <td>724.70650</td>\n",
       "      <td>7351.3525</td>\n",
       "    </tr>\n",
       "    <tr>\n",
       "      <th>1</th>\n",
       "      <td>2014-01-01 01:00:00</td>\n",
       "      <td>2.85533</td>\n",
       "      <td>23.293000</td>\n",
       "      <td>0.000000</td>\n",
       "      <td>145.83325</td>\n",
       "      <td>71.036575</td>\n",
       "      <td>233.63075</td>\n",
       "      <td>5.935555</td>\n",
       "      <td>249.99975</td>\n",
       "      <td>52.010525</td>\n",
       "      <td>...</td>\n",
       "      <td>71.556025</td>\n",
       "      <td>14875</td>\n",
       "      <td>638.18550</td>\n",
       "      <td>909.09100</td>\n",
       "      <td>16.949175</td>\n",
       "      <td>11.410175</td>\n",
       "      <td>227.83125</td>\n",
       "      <td>48.414025</td>\n",
       "      <td>680.90175</td>\n",
       "      <td>7027.0250</td>\n",
       "    </tr>\n",
       "    <tr>\n",
       "      <th>2</th>\n",
       "      <td>2014-01-01 02:00:00</td>\n",
       "      <td>2.85533</td>\n",
       "      <td>24.537700</td>\n",
       "      <td>0.000000</td>\n",
       "      <td>142.27650</td>\n",
       "      <td>64.939000</td>\n",
       "      <td>212.79775</td>\n",
       "      <td>5.511587</td>\n",
       "      <td>251.68325</td>\n",
       "      <td>52.884650</td>\n",
       "      <td>...</td>\n",
       "      <td>68.522500</td>\n",
       "      <td>14850</td>\n",
       "      <td>573.83975</td>\n",
       "      <td>880.68175</td>\n",
       "      <td>17.926975</td>\n",
       "      <td>10.239923</td>\n",
       "      <td>199.73675</td>\n",
       "      <td>50.500825</td>\n",
       "      <td>664.40600</td>\n",
       "      <td>6689.1875</td>\n",
       "    </tr>\n",
       "    <tr>\n",
       "      <th>3</th>\n",
       "      <td>2014-01-01 03:00:00</td>\n",
       "      <td>2.85533</td>\n",
       "      <td>21.870575</td>\n",
       "      <td>0.000000</td>\n",
       "      <td>127.03250</td>\n",
       "      <td>64.634150</td>\n",
       "      <td>179.31550</td>\n",
       "      <td>5.935555</td>\n",
       "      <td>207.91225</td>\n",
       "      <td>46.765725</td>\n",
       "      <td>...</td>\n",
       "      <td>68.344050</td>\n",
       "      <td>14275</td>\n",
       "      <td>565.40075</td>\n",
       "      <td>857.95425</td>\n",
       "      <td>16.949175</td>\n",
       "      <td>10.239920</td>\n",
       "      <td>183.71350</td>\n",
       "      <td>46.327225</td>\n",
       "      <td>700.69650</td>\n",
       "      <td>6351.3525</td>\n",
       "    </tr>\n",
       "    <tr>\n",
       "      <th>4</th>\n",
       "      <td>2014-01-01 04:00:00</td>\n",
       "      <td>2.53807</td>\n",
       "      <td>22.226200</td>\n",
       "      <td>0.000000</td>\n",
       "      <td>111.28050</td>\n",
       "      <td>57.621950</td>\n",
       "      <td>156.25025</td>\n",
       "      <td>4.946298</td>\n",
       "      <td>191.07725</td>\n",
       "      <td>41.958025</td>\n",
       "      <td>...</td>\n",
       "      <td>68.879375</td>\n",
       "      <td>13400</td>\n",
       "      <td>558.01700</td>\n",
       "      <td>863.63600</td>\n",
       "      <td>17.601050</td>\n",
       "      <td>8.045650</td>\n",
       "      <td>186.12825</td>\n",
       "      <td>47.579325</td>\n",
       "      <td>678.51925</td>\n",
       "      <td>6837.8375</td>\n",
       "    </tr>\n",
       "  </tbody>\n",
       "</table>\n",
       "<p>5 rows × 371 columns</p>\n",
       "</div>"
      ],
      "text/plain": [
       "                  time   MT_001     MT_002    MT_003     MT_004     MT_005  \\\n",
       "0  2014-01-01 00:00:00  2.53807  24.004250  0.434405  148.88225  75.609750   \n",
       "1  2014-01-01 01:00:00  2.85533  23.293000  0.000000  145.83325  71.036575   \n",
       "2  2014-01-01 02:00:00  2.85533  24.537700  0.000000  142.27650  64.939000   \n",
       "3  2014-01-01 03:00:00  2.85533  21.870575  0.000000  127.03250  64.634150   \n",
       "4  2014-01-01 04:00:00  2.53807  22.226200  0.000000  111.28050  57.621950   \n",
       "\n",
       "      MT_006    MT_007     MT_008     MT_009  ...      MT_361  MT_362  \\\n",
       "0  276.04150  6.642168  247.47450  51.136375  ...  100.285500   15475   \n",
       "1  233.63075  5.935555  249.99975  52.010525  ...   71.556025   14875   \n",
       "2  212.79775  5.511587  251.68325  52.884650  ...   68.522500   14850   \n",
       "3  179.31550  5.935555  207.91225  46.765725  ...   68.344050   14275   \n",
       "4  156.25025  4.946298  191.07725  41.958025  ...   68.879375   13400   \n",
       "\n",
       "       MT_363      MT_364     MT_365     MT_366     MT_367     MT_368  \\\n",
       "0  1161.39275  1011.36375  17.275100   9.362220  237.48900  46.327225   \n",
       "1   638.18550   909.09100  16.949175  11.410175  227.83125  48.414025   \n",
       "2   573.83975   880.68175  17.926975  10.239923  199.73675  50.500825   \n",
       "3   565.40075   857.95425  16.949175  10.239920  183.71350  46.327225   \n",
       "4   558.01700   863.63600  17.601050   8.045650  186.12825  47.579325   \n",
       "\n",
       "      MT_369     MT_370  \n",
       "0  724.70650  7351.3525  \n",
       "1  680.90175  7027.0250  \n",
       "2  664.40600  6689.1875  \n",
       "3  700.69650  6351.3525  \n",
       "4  678.51925  6837.8375  \n",
       "\n",
       "[5 rows x 371 columns]"
      ]
     },
     "execution_count": 4,
     "metadata": {},
     "output_type": "execute_result"
    }
   ],
   "source": [
    "dataset.head()"
   ]
  },
  {
   "cell_type": "code",
   "execution_count": 5,
   "metadata": {},
   "outputs": [
    {
     "data": {
      "text/plain": [
       "(8760, 371)"
      ]
     },
     "execution_count": 5,
     "metadata": {},
     "output_type": "execute_result"
    }
   ],
   "source": [
    "dataset.shape"
   ]
  },
  {
   "cell_type": "markdown",
   "metadata": {},
   "source": [
    "#### カラム`\"time\"`をdatetime型に変換します"
   ]
  },
  {
   "cell_type": "code",
   "execution_count": 6,
   "metadata": {},
   "outputs": [],
   "source": [
    "dataset[\"time\"] = pd.to_datetime(dataset[\"time\"])"
   ]
  },
  {
   "cell_type": "markdown",
   "metadata": {},
   "source": [
    "#### データサイズが大きいので、サンプルコードでは分析に使うデータを`2014年1月分`のデータに絞ります\n",
    "演習本番では適宜使用するデータ期間を変更してください"
   ]
  },
  {
   "cell_type": "code",
   "execution_count": 7,
   "metadata": {},
   "outputs": [],
   "source": [
    "dataset_January = dataset[dataset[\"time\"] < \"2014-02-01\"]"
   ]
  },
  {
   "cell_type": "markdown",
   "metadata": {},
   "source": [
    "#### 集計を行いやすいようにデータの持ち方を変換します"
   ]
  },
  {
   "cell_type": "code",
   "execution_count": 8,
   "metadata": {},
   "outputs": [],
   "source": [
    "data = pd.melt(dataset_January,\n",
    "               id_vars=['time'], var_name=\"customer_id\", value_name=\"power_usage\")"
   ]
  },
  {
   "cell_type": "code",
   "execution_count": 9,
   "metadata": {},
   "outputs": [
    {
     "data": {
      "text/html": [
       "<div>\n",
       "<style scoped>\n",
       "    .dataframe tbody tr th:only-of-type {\n",
       "        vertical-align: middle;\n",
       "    }\n",
       "\n",
       "    .dataframe tbody tr th {\n",
       "        vertical-align: top;\n",
       "    }\n",
       "\n",
       "    .dataframe thead th {\n",
       "        text-align: right;\n",
       "    }\n",
       "</style>\n",
       "<table border=\"1\" class=\"dataframe\">\n",
       "  <thead>\n",
       "    <tr style=\"text-align: right;\">\n",
       "      <th></th>\n",
       "      <th>time</th>\n",
       "      <th>customer_id</th>\n",
       "      <th>power_usage</th>\n",
       "    </tr>\n",
       "  </thead>\n",
       "  <tbody>\n",
       "    <tr>\n",
       "      <th>0</th>\n",
       "      <td>2014-01-01 00:00:00</td>\n",
       "      <td>MT_001</td>\n",
       "      <td>2.53807</td>\n",
       "    </tr>\n",
       "    <tr>\n",
       "      <th>1</th>\n",
       "      <td>2014-01-01 01:00:00</td>\n",
       "      <td>MT_001</td>\n",
       "      <td>2.85533</td>\n",
       "    </tr>\n",
       "    <tr>\n",
       "      <th>2</th>\n",
       "      <td>2014-01-01 02:00:00</td>\n",
       "      <td>MT_001</td>\n",
       "      <td>2.85533</td>\n",
       "    </tr>\n",
       "    <tr>\n",
       "      <th>3</th>\n",
       "      <td>2014-01-01 03:00:00</td>\n",
       "      <td>MT_001</td>\n",
       "      <td>2.85533</td>\n",
       "    </tr>\n",
       "    <tr>\n",
       "      <th>4</th>\n",
       "      <td>2014-01-01 04:00:00</td>\n",
       "      <td>MT_001</td>\n",
       "      <td>2.53807</td>\n",
       "    </tr>\n",
       "  </tbody>\n",
       "</table>\n",
       "</div>"
      ],
      "text/plain": [
       "                 time customer_id  power_usage\n",
       "0 2014-01-01 00:00:00      MT_001      2.53807\n",
       "1 2014-01-01 01:00:00      MT_001      2.85533\n",
       "2 2014-01-01 02:00:00      MT_001      2.85533\n",
       "3 2014-01-01 03:00:00      MT_001      2.85533\n",
       "4 2014-01-01 04:00:00      MT_001      2.53807"
      ]
     },
     "execution_count": 9,
     "metadata": {},
     "output_type": "execute_result"
    }
   ],
   "source": [
    "data.head()"
   ]
  },
  {
   "cell_type": "code",
   "execution_count": 10,
   "metadata": {},
   "outputs": [
    {
     "data": {
      "text/plain": [
       "(275280, 3)"
      ]
     },
     "execution_count": 10,
     "metadata": {},
     "output_type": "execute_result"
    }
   ],
   "source": [
    "data.shape"
   ]
  },
  {
   "cell_type": "markdown",
   "metadata": {},
   "source": [
    "#### サンプルコードでは`hour`の情報を使い集計していきます\n",
    "カラム`time`から`hour`の情報をライブラリ`datetime`を用いて取り出します\n",
    "その他の情報のサンプルコードは以下の通りです\n",
    "```python\n",
    "data[\"year\"] = data[\"time\"].dt.year\n",
    "data[\"month\"] = data[\"time\"].dt.month\n",
    "data[\"day\"] = data[\"time\"].dt.day\n",
    "data[\"dayofweek\"] = data[\"time\"].dt.strftime('%A')\n",
    "```"
   ]
  },
  {
   "cell_type": "code",
   "execution_count": 11,
   "metadata": {},
   "outputs": [],
   "source": [
    "data[\"hour\"] = data[\"time\"].dt.hour"
   ]
  },
  {
   "cell_type": "code",
   "execution_count": 12,
   "metadata": {},
   "outputs": [
    {
     "data": {
      "text/html": [
       "<div>\n",
       "<style scoped>\n",
       "    .dataframe tbody tr th:only-of-type {\n",
       "        vertical-align: middle;\n",
       "    }\n",
       "\n",
       "    .dataframe tbody tr th {\n",
       "        vertical-align: top;\n",
       "    }\n",
       "\n",
       "    .dataframe thead th {\n",
       "        text-align: right;\n",
       "    }\n",
       "</style>\n",
       "<table border=\"1\" class=\"dataframe\">\n",
       "  <thead>\n",
       "    <tr style=\"text-align: right;\">\n",
       "      <th></th>\n",
       "      <th>time</th>\n",
       "      <th>customer_id</th>\n",
       "      <th>power_usage</th>\n",
       "      <th>hour</th>\n",
       "    </tr>\n",
       "  </thead>\n",
       "  <tbody>\n",
       "    <tr>\n",
       "      <th>0</th>\n",
       "      <td>2014-01-01 00:00:00</td>\n",
       "      <td>MT_001</td>\n",
       "      <td>2.53807</td>\n",
       "      <td>0</td>\n",
       "    </tr>\n",
       "    <tr>\n",
       "      <th>1</th>\n",
       "      <td>2014-01-01 01:00:00</td>\n",
       "      <td>MT_001</td>\n",
       "      <td>2.85533</td>\n",
       "      <td>1</td>\n",
       "    </tr>\n",
       "    <tr>\n",
       "      <th>2</th>\n",
       "      <td>2014-01-01 02:00:00</td>\n",
       "      <td>MT_001</td>\n",
       "      <td>2.85533</td>\n",
       "      <td>2</td>\n",
       "    </tr>\n",
       "    <tr>\n",
       "      <th>3</th>\n",
       "      <td>2014-01-01 03:00:00</td>\n",
       "      <td>MT_001</td>\n",
       "      <td>2.85533</td>\n",
       "      <td>3</td>\n",
       "    </tr>\n",
       "    <tr>\n",
       "      <th>4</th>\n",
       "      <td>2014-01-01 04:00:00</td>\n",
       "      <td>MT_001</td>\n",
       "      <td>2.53807</td>\n",
       "      <td>4</td>\n",
       "    </tr>\n",
       "  </tbody>\n",
       "</table>\n",
       "</div>"
      ],
      "text/plain": [
       "                 time customer_id  power_usage  hour\n",
       "0 2014-01-01 00:00:00      MT_001      2.53807     0\n",
       "1 2014-01-01 01:00:00      MT_001      2.85533     1\n",
       "2 2014-01-01 02:00:00      MT_001      2.85533     2\n",
       "3 2014-01-01 03:00:00      MT_001      2.85533     3\n",
       "4 2014-01-01 04:00:00      MT_001      2.53807     4"
      ]
     },
     "execution_count": 12,
     "metadata": {},
     "output_type": "execute_result"
    }
   ],
   "source": [
    "data.head()"
   ]
  },
  {
   "cell_type": "markdown",
   "metadata": {},
   "source": [
    "## 切り口を練るために可視化する"
   ]
  },
  {
   "cell_type": "markdown",
   "metadata": {},
   "source": [
    "### ヒント1: Pandasによるデータの集計1: 集計関数を使う\n"
   ]
  },
  {
   "cell_type": "markdown",
   "metadata": {},
   "source": [
    "### groupby + aggregateで集計する\n",
    "使い方:  data.groupby([キーとなる列名]).aggregate({\"集計対象の列名\":集計関数}).reset_index()"
   ]
  },
  {
   "cell_type": "code",
   "execution_count": 13,
   "metadata": {},
   "outputs": [
    {
     "data": {
      "text/html": [
       "<div>\n",
       "<style scoped>\n",
       "    .dataframe tbody tr th:only-of-type {\n",
       "        vertical-align: middle;\n",
       "    }\n",
       "\n",
       "    .dataframe tbody tr th {\n",
       "        vertical-align: top;\n",
       "    }\n",
       "\n",
       "    .dataframe thead th {\n",
       "        text-align: right;\n",
       "    }\n",
       "</style>\n",
       "<table border=\"1\" class=\"dataframe\">\n",
       "  <thead>\n",
       "    <tr style=\"text-align: right;\">\n",
       "      <th></th>\n",
       "      <th>customer_id</th>\n",
       "      <th>power_usage</th>\n",
       "    </tr>\n",
       "  </thead>\n",
       "  <tbody>\n",
       "    <tr>\n",
       "      <th>0</th>\n",
       "      <td>MT_001</td>\n",
       "      <td>1805.204045</td>\n",
       "    </tr>\n",
       "    <tr>\n",
       "      <th>1</th>\n",
       "      <td>MT_002</td>\n",
       "      <td>21103.841510</td>\n",
       "    </tr>\n",
       "    <tr>\n",
       "      <th>2</th>\n",
       "      <td>MT_003</td>\n",
       "      <td>1253.475628</td>\n",
       "    </tr>\n",
       "    <tr>\n",
       "      <th>3</th>\n",
       "      <td>MT_004</td>\n",
       "      <td>104164.667950</td>\n",
       "    </tr>\n",
       "    <tr>\n",
       "      <th>4</th>\n",
       "      <td>MT_005</td>\n",
       "      <td>52476.836075</td>\n",
       "    </tr>\n",
       "  </tbody>\n",
       "</table>\n",
       "</div>"
      ],
      "text/plain": [
       "  customer_id    power_usage\n",
       "0      MT_001    1805.204045\n",
       "1      MT_002   21103.841510\n",
       "2      MT_003    1253.475628\n",
       "3      MT_004  104164.667950\n",
       "4      MT_005   52476.836075"
      ]
     },
     "execution_count": 13,
     "metadata": {},
     "output_type": "execute_result"
    }
   ],
   "source": [
    "total_power_usage_by_company = data.groupby(\n",
    "    [\"customer_id\"]).aggregate({\"power_usage\": np.sum}).reset_index()\n",
    "total_power_usage_by_company.head()"
   ]
  },
  {
   "cell_type": "markdown",
   "metadata": {},
   "source": [
    "顧客ごとの1年間の総消費電力量をプロット"
   ]
  },
  {
   "cell_type": "code",
   "execution_count": 14,
   "metadata": {},
   "outputs": [
    {
     "data": {
      "text/plain": [
       "<matplotlib.axes._subplots.AxesSubplot at 0x23ac3203dd8>"
      ]
     },
     "execution_count": 14,
     "metadata": {},
     "output_type": "execute_result"
    },
    {
     "data": {
      "image/png": "[encoded data removed]",
      "text/plain": [
       "<Figure size 432x288 with 1 Axes>"
      ]
     },
     "metadata": {
      "needs_background": "light"
     },
     "output_type": "display_data"
    }
   ],
   "source": [
    "total_power_usage_by_company[\"power_usage\"].plot(\n",
    "    x=\"customer_id\", y=\"power_usage\")"
   ]
  },
  {
   "cell_type": "markdown",
   "metadata": {},
   "source": [
    "### 時間別の消費電力量を集計する\n",
    "ヒント:  data.groupby([キーとなる列名]).aggregate({\"集計対象の列名\":集計関数}).reset_index()"
   ]
  },
  {
   "cell_type": "code",
   "execution_count": 15,
   "metadata": {},
   "outputs": [],
   "source": [
    "hourly_total_value = data.groupby([\"hour\"]).aggregate(\n",
    "    {\"power_usage\": np.sum}).reset_index()"
   ]
  },
  {
   "cell_type": "code",
   "execution_count": 16,
   "metadata": {},
   "outputs": [
    {
     "data": {
      "text/plain": [
       "<matplotlib.axes._subplots.AxesSubplot at 0x23ac3983518>"
      ]
     },
     "execution_count": 16,
     "metadata": {},
     "output_type": "execute_result"
    },
    {
     "data": {
      "image/png": "[encoded data removed]",
      "text/plain": [
       "<Figure size 432x288 with 1 Axes>"
      ]
     },
     "metadata": {
      "needs_background": "light"
     },
     "output_type": "display_data"
    }
   ],
   "source": [
    "hourly_total_value.plot(x=\"hour\", y=\"power_usage\")"
   ]
  },
  {
   "cell_type": "markdown",
   "metadata": {},
   "source": [
    "### ヒント2: Pandasによるデータの集計2: 要素数カウント\n",
    "\n",
    "ヒント:  data.groupby([キーとなる列名]).aggregate({\"集計対象の列名\":集計関数}).reset_index()"
   ]
  },
  {
   "cell_type": "code",
   "execution_count": 17,
   "metadata": {},
   "outputs": [],
   "source": [
    "data_non_zero = data[data[\"power_usage\"] > 0]\n",
    "hourly_total_count = data_non_zero.groupby([\"hour\"])[\"customer_id\"].nunique()"
   ]
  },
  {
   "cell_type": "code",
   "execution_count": 18,
   "metadata": {},
   "outputs": [
    {
     "data": {
      "text/plain": [
       "hour\n",
       "0     361\n",
       "1     361\n",
       "2     361\n",
       "3     361\n",
       "4     361\n",
       "5     361\n",
       "6     361\n",
       "7     361\n",
       "8     361\n",
       "9     361\n",
       "10    361\n",
       "11    361\n",
       "12    361\n",
       "13    361\n",
       "14    361\n",
       "15    361\n",
       "16    361\n",
       "17    361\n",
       "18    361\n",
       "19    361\n",
       "20    361\n",
       "21    361\n",
       "22    361\n",
       "23    361\n",
       "Name: customer_id, dtype: int64"
      ]
     },
     "execution_count": 18,
     "metadata": {},
     "output_type": "execute_result"
    }
   ],
   "source": [
    "hourly_total_count"
   ]
  },
  {
   "cell_type": "markdown",
   "metadata": {},
   "source": [
    "### ヒント3: Pandasによるデータの集計3: pivot table\n",
    "\n",
    "使い方:  pd.pivot_table(data, columns=\"横持ちする列\", index=\"集計するキー\", values=\"集計対象する列\", aggfunc=集計関数).reset_index()"
   ]
  },
  {
   "cell_type": "code",
   "execution_count": 19,
   "metadata": {},
   "outputs": [],
   "source": [
    "hour_df = pd.pivot_table(data, columns=\"hour\",\n",
    "                         index=\"customer_id\", values=\"power_usage\", aggfunc=np.mean).reset_index()"
   ]
  },
  {
   "cell_type": "markdown",
   "metadata": {},
   "source": [
    "0時~23時の列を抽出する"
   ]
  },
  {
   "cell_type": "code",
   "execution_count": 20,
   "metadata": {
    "scrolled": true
   },
   "outputs": [
    {
     "data": {
      "text/html": [
       "<div>\n",
       "<style scoped>\n",
       "    .dataframe tbody tr th:only-of-type {\n",
       "        vertical-align: middle;\n",
       "    }\n",
       "\n",
       "    .dataframe tbody tr th {\n",
       "        vertical-align: top;\n",
       "    }\n",
       "\n",
       "    .dataframe thead th {\n",
       "        text-align: right;\n",
       "    }\n",
       "</style>\n",
       "<table border=\"1\" class=\"dataframe\">\n",
       "  <thead>\n",
       "    <tr style=\"text-align: right;\">\n",
       "      <th>hour</th>\n",
       "      <th>0</th>\n",
       "      <th>1</th>\n",
       "      <th>2</th>\n",
       "      <th>3</th>\n",
       "      <th>4</th>\n",
       "      <th>5</th>\n",
       "      <th>6</th>\n",
       "      <th>7</th>\n",
       "      <th>8</th>\n",
       "      <th>9</th>\n",
       "      <th>...</th>\n",
       "      <th>14</th>\n",
       "      <th>15</th>\n",
       "      <th>16</th>\n",
       "      <th>17</th>\n",
       "      <th>18</th>\n",
       "      <th>19</th>\n",
       "      <th>20</th>\n",
       "      <th>21</th>\n",
       "      <th>22</th>\n",
       "      <th>23</th>\n",
       "    </tr>\n",
       "  </thead>\n",
       "  <tbody>\n",
       "    <tr>\n",
       "      <th>0</th>\n",
       "      <td>2.261750</td>\n",
       "      <td>2.394793</td>\n",
       "      <td>2.333389</td>\n",
       "      <td>2.271984</td>\n",
       "      <td>2.384559</td>\n",
       "      <td>2.374325</td>\n",
       "      <td>2.241282</td>\n",
       "      <td>2.312920</td>\n",
       "      <td>2.241283</td>\n",
       "      <td>3.090718</td>\n",
       "      <td>...</td>\n",
       "      <td>2.814395</td>\n",
       "      <td>3.049780</td>\n",
       "      <td>2.190112</td>\n",
       "      <td>1.842151</td>\n",
       "      <td>2.179877</td>\n",
       "      <td>2.261750</td>\n",
       "      <td>2.210579</td>\n",
       "      <td>2.353858</td>\n",
       "      <td>2.343623</td>\n",
       "      <td>2.251515</td>\n",
       "    </tr>\n",
       "    <tr>\n",
       "      <th>1</th>\n",
       "      <td>24.973622</td>\n",
       "      <td>23.229926</td>\n",
       "      <td>22.983285</td>\n",
       "      <td>22.323687</td>\n",
       "      <td>22.713703</td>\n",
       "      <td>22.530163</td>\n",
       "      <td>24.474600</td>\n",
       "      <td>30.153030</td>\n",
       "      <td>30.898692</td>\n",
       "      <td>30.984725</td>\n",
       "      <td>...</td>\n",
       "      <td>31.265777</td>\n",
       "      <td>29.327077</td>\n",
       "      <td>28.701876</td>\n",
       "      <td>28.810853</td>\n",
       "      <td>30.399677</td>\n",
       "      <td>32.361310</td>\n",
       "      <td>33.049606</td>\n",
       "      <td>30.806916</td>\n",
       "      <td>27.755475</td>\n",
       "      <td>26.631263</td>\n",
       "    </tr>\n",
       "    <tr>\n",
       "      <th>2</th>\n",
       "      <td>1.681568</td>\n",
       "      <td>1.905777</td>\n",
       "      <td>1.653542</td>\n",
       "      <td>1.625515</td>\n",
       "      <td>1.653542</td>\n",
       "      <td>1.737620</td>\n",
       "      <td>1.681568</td>\n",
       "      <td>1.681568</td>\n",
       "      <td>1.737620</td>\n",
       "      <td>1.744627</td>\n",
       "      <td>...</td>\n",
       "      <td>1.562457</td>\n",
       "      <td>1.562457</td>\n",
       "      <td>1.681568</td>\n",
       "      <td>1.730613</td>\n",
       "      <td>1.940809</td>\n",
       "      <td>1.709594</td>\n",
       "      <td>1.891764</td>\n",
       "      <td>1.681568</td>\n",
       "      <td>1.681568</td>\n",
       "      <td>1.681568</td>\n",
       "    </tr>\n",
       "    <tr>\n",
       "      <th>3</th>\n",
       "      <td>142.636992</td>\n",
       "      <td>119.427052</td>\n",
       "      <td>106.166485</td>\n",
       "      <td>102.625967</td>\n",
       "      <td>96.741452</td>\n",
       "      <td>94.594215</td>\n",
       "      <td>93.692682</td>\n",
       "      <td>106.625410</td>\n",
       "      <td>100.232838</td>\n",
       "      <td>107.740081</td>\n",
       "      <td>...</td>\n",
       "      <td>120.246591</td>\n",
       "      <td>125.065617</td>\n",
       "      <td>126.426094</td>\n",
       "      <td>145.095749</td>\n",
       "      <td>196.269323</td>\n",
       "      <td>241.689653</td>\n",
       "      <td>234.116855</td>\n",
       "      <td>217.184661</td>\n",
       "      <td>191.483089</td>\n",
       "      <td>168.076347</td>\n",
       "    </tr>\n",
       "    <tr>\n",
       "      <th>4</th>\n",
       "      <td>70.505509</td>\n",
       "      <td>63.778516</td>\n",
       "      <td>59.844604</td>\n",
       "      <td>62.214786</td>\n",
       "      <td>55.861522</td>\n",
       "      <td>57.798973</td>\n",
       "      <td>62.136113</td>\n",
       "      <td>63.935877</td>\n",
       "      <td>57.857985</td>\n",
       "      <td>60.454361</td>\n",
       "      <td>...</td>\n",
       "      <td>61.762386</td>\n",
       "      <td>66.197870</td>\n",
       "      <td>66.050356</td>\n",
       "      <td>73.052713</td>\n",
       "      <td>95.839944</td>\n",
       "      <td>105.920632</td>\n",
       "      <td>97.934756</td>\n",
       "      <td>92.319082</td>\n",
       "      <td>84.834790</td>\n",
       "      <td>80.910703</td>\n",
       "    </tr>\n",
       "  </tbody>\n",
       "</table>\n",
       "<p>5 rows × 24 columns</p>\n",
       "</div>"
      ],
      "text/plain": [
       "hour          0           1           2           3          4          5   \\\n",
       "0       2.261750    2.394793    2.333389    2.271984   2.384559   2.374325   \n",
       "1      24.973622   23.229926   22.983285   22.323687  22.713703  22.530163   \n",
       "2       1.681568    1.905777    1.653542    1.625515   1.653542   1.737620   \n",
       "3     142.636992  119.427052  106.166485  102.625967  96.741452  94.594215   \n",
       "4      70.505509   63.778516   59.844604   62.214786  55.861522  57.798973   \n",
       "\n",
       "hour         6           7           8           9   ...          14  \\\n",
       "0      2.241282    2.312920    2.241283    3.090718  ...    2.814395   \n",
       "1     24.474600   30.153030   30.898692   30.984725  ...   31.265777   \n",
       "2      1.681568    1.681568    1.737620    1.744627  ...    1.562457   \n",
       "3     93.692682  106.625410  100.232838  107.740081  ...  120.246591   \n",
       "4     62.136113   63.935877   57.857985   60.454361  ...   61.762386   \n",
       "\n",
       "hour          15          16          17          18          19          20  \\\n",
       "0       3.049780    2.190112    1.842151    2.179877    2.261750    2.210579   \n",
       "1      29.327077   28.701876   28.810853   30.399677   32.361310   33.049606   \n",
       "2       1.562457    1.681568    1.730613    1.940809    1.709594    1.891764   \n",
       "3     125.065617  126.426094  145.095749  196.269323  241.689653  234.116855   \n",
       "4      66.197870   66.050356   73.052713   95.839944  105.920632   97.934756   \n",
       "\n",
       "hour          21          22          23  \n",
       "0       2.353858    2.343623    2.251515  \n",
       "1      30.806916   27.755475   26.631263  \n",
       "2       1.681568    1.681568    1.681568  \n",
       "3     217.184661  191.483089  168.076347  \n",
       "4      92.319082   84.834790   80.910703  \n",
       "\n",
       "[5 rows x 24 columns]"
      ]
     },
     "execution_count": 20,
     "metadata": {},
     "output_type": "execute_result"
    }
   ],
   "source": [
    "target_cols = list(range(0,24))\n",
    "hour_df2 = hour_df[target_cols]\n",
    "hour_df2.head()"
   ]
  },
  {
   "cell_type": "markdown",
   "metadata": {},
   "source": [
    "### 横軸に「時間」、縦軸に時間あたり消費電力量の平均の折れ線グラフ"
   ]
  },
  {
   "cell_type": "code",
   "execution_count": 21,
   "metadata": {
    "scrolled": true
   },
   "outputs": [
    {
     "data": {
      "text/plain": [
       "<matplotlib.axes._subplots.AxesSubplot at 0x23ac39fc128>"
      ]
     },
     "execution_count": 21,
     "metadata": {},
     "output_type": "execute_result"
    },
    {
     "data": {
      "image/png": "[encoded data removed]",
      "text/plain": [
       "<Figure size 432x288 with 1 Axes>"
      ]
     },
     "metadata": {
      "needs_background": "light"
     },
     "output_type": "display_data"
    }
   ],
   "source": [
    "hour_df2.T.plot(color='blue', alpha=0.05, legend=False)"
   ]
  },
  {
   "cell_type": "markdown",
   "metadata": {},
   "source": [
    "大口顧客と小口顧客が混ざっているので見にくいですね。"
   ]
  },
  {
   "cell_type": "markdown",
   "metadata": {},
   "source": [
    "## ヒント4: 平均0, 標準偏差1で標準化"
   ]
  },
  {
   "cell_type": "markdown",
   "metadata": {},
   "source": [
    "### StandardScalerで平均0、標準偏差1で標準化する"
   ]
  },
  {
   "cell_type": "code",
   "execution_count": 22,
   "metadata": {},
   "outputs": [],
   "source": [
    "from sklearn.preprocessing import StandardScaler"
   ]
  },
  {
   "cell_type": "code",
   "execution_count": 23,
   "metadata": {},
   "outputs": [],
   "source": [
    "scaler = StandardScaler()"
   ]
  },
  {
   "cell_type": "code",
   "execution_count": 24,
   "metadata": {},
   "outputs": [
    {
     "data": {
      "text/plain": [
       "array([[-0.51814726, -0.95312885, -0.02892984, ...,  0.08409679,\n",
       "        -0.39218999, -1.0937625 ],\n",
       "       [-0.09933586, -1.44313067,  1.99089923, ..., -0.36603948,\n",
       "        -0.93531785, -1.53128458],\n",
       "       [-0.29263349, -1.51244012, -0.28140848, ..., -1.12172006,\n",
       "        -0.97943708, -0.91775985],\n",
       "       ...,\n",
       "       [-0.22819841,  0.68610468, -0.02892984, ...,  0.89422159,\n",
       "         0.42467606,  1.15088511],\n",
       "       [-0.26041658, -0.17139098, -0.02892984, ...,  0.5535704 ,\n",
       "         0.37491992,  1.06535207],\n",
       "       [-0.55036315, -0.48730958, -0.02892984, ...,  0.14151647,\n",
       "         0.29312046, -0.70830281]])"
      ]
     },
     "execution_count": 24,
     "metadata": {},
     "output_type": "execute_result"
    }
   ],
   "source": [
    "hour_df2_std = scaler.fit_transform(hour_df2.T)\n",
    "hour_df2_std"
   ]
  },
  {
   "cell_type": "code",
   "execution_count": 25,
   "metadata": {},
   "outputs": [
    {
     "data": {
      "text/html": [
       "<div>\n",
       "<style scoped>\n",
       "    .dataframe tbody tr th:only-of-type {\n",
       "        vertical-align: middle;\n",
       "    }\n",
       "\n",
       "    .dataframe tbody tr th {\n",
       "        vertical-align: top;\n",
       "    }\n",
       "\n",
       "    .dataframe thead th {\n",
       "        text-align: right;\n",
       "    }\n",
       "</style>\n",
       "<table border=\"1\" class=\"dataframe\">\n",
       "  <thead>\n",
       "    <tr style=\"text-align: right;\">\n",
       "      <th></th>\n",
       "      <th>0</th>\n",
       "      <th>1</th>\n",
       "      <th>2</th>\n",
       "      <th>3</th>\n",
       "      <th>4</th>\n",
       "      <th>5</th>\n",
       "      <th>6</th>\n",
       "      <th>7</th>\n",
       "      <th>8</th>\n",
       "      <th>9</th>\n",
       "      <th>...</th>\n",
       "      <th>14</th>\n",
       "      <th>15</th>\n",
       "      <th>16</th>\n",
       "      <th>17</th>\n",
       "      <th>18</th>\n",
       "      <th>19</th>\n",
       "      <th>20</th>\n",
       "      <th>21</th>\n",
       "      <th>22</th>\n",
       "      <th>23</th>\n",
       "    </tr>\n",
       "  </thead>\n",
       "  <tbody>\n",
       "    <tr>\n",
       "      <th>0</th>\n",
       "      <td>-0.518147</td>\n",
       "      <td>-0.099336</td>\n",
       "      <td>-0.292633</td>\n",
       "      <td>-0.485930</td>\n",
       "      <td>-0.131553</td>\n",
       "      <td>-0.163768</td>\n",
       "      <td>-0.582579</td>\n",
       "      <td>-0.357066</td>\n",
       "      <td>-0.582575</td>\n",
       "      <td>2.091377</td>\n",
       "      <td>...</td>\n",
       "      <td>1.221536</td>\n",
       "      <td>1.962506</td>\n",
       "      <td>-0.743658</td>\n",
       "      <td>-1.839010</td>\n",
       "      <td>-0.775876</td>\n",
       "      <td>-0.518147</td>\n",
       "      <td>-0.679228</td>\n",
       "      <td>-0.228198</td>\n",
       "      <td>-0.260417</td>\n",
       "      <td>-0.550363</td>\n",
       "    </tr>\n",
       "    <tr>\n",
       "      <th>1</th>\n",
       "      <td>-0.953129</td>\n",
       "      <td>-1.443131</td>\n",
       "      <td>-1.512440</td>\n",
       "      <td>-1.697796</td>\n",
       "      <td>-1.588196</td>\n",
       "      <td>-1.639773</td>\n",
       "      <td>-1.093361</td>\n",
       "      <td>0.502354</td>\n",
       "      <td>0.711895</td>\n",
       "      <td>0.736071</td>\n",
       "      <td>...</td>\n",
       "      <td>0.815051</td>\n",
       "      <td>0.270250</td>\n",
       "      <td>0.094560</td>\n",
       "      <td>0.125184</td>\n",
       "      <td>0.571665</td>\n",
       "      <td>1.122910</td>\n",
       "      <td>1.316331</td>\n",
       "      <td>0.686105</td>\n",
       "      <td>-0.171391</td>\n",
       "      <td>-0.487310</td>\n",
       "    </tr>\n",
       "    <tr>\n",
       "      <th>2</th>\n",
       "      <td>-0.028930</td>\n",
       "      <td>1.990899</td>\n",
       "      <td>-0.281408</td>\n",
       "      <td>-0.533887</td>\n",
       "      <td>-0.281408</td>\n",
       "      <td>0.476027</td>\n",
       "      <td>-0.028930</td>\n",
       "      <td>-0.028930</td>\n",
       "      <td>0.476027</td>\n",
       "      <td>0.539147</td>\n",
       "      <td>...</td>\n",
       "      <td>-1.101964</td>\n",
       "      <td>-1.101964</td>\n",
       "      <td>-0.028930</td>\n",
       "      <td>0.412908</td>\n",
       "      <td>2.306498</td>\n",
       "      <td>0.223549</td>\n",
       "      <td>1.864660</td>\n",
       "      <td>-0.028930</td>\n",
       "      <td>-0.028930</td>\n",
       "      <td>-0.028930</td>\n",
       "    </tr>\n",
       "    <tr>\n",
       "      <th>3</th>\n",
       "      <td>0.060092</td>\n",
       "      <td>-0.470083</td>\n",
       "      <td>-0.772989</td>\n",
       "      <td>-0.853864</td>\n",
       "      <td>-0.988282</td>\n",
       "      <td>-1.037330</td>\n",
       "      <td>-1.057924</td>\n",
       "      <td>-0.762506</td>\n",
       "      <td>-0.908529</td>\n",
       "      <td>-0.737044</td>\n",
       "      <td>...</td>\n",
       "      <td>-0.451363</td>\n",
       "      <td>-0.341284</td>\n",
       "      <td>-0.310207</td>\n",
       "      <td>0.116257</td>\n",
       "      <td>1.285195</td>\n",
       "      <td>2.322715</td>\n",
       "      <td>2.149732</td>\n",
       "      <td>1.762957</td>\n",
       "      <td>1.175865</td>\n",
       "      <td>0.641194</td>\n",
       "    </tr>\n",
       "    <tr>\n",
       "      <th>4</th>\n",
       "      <td>-0.001978</td>\n",
       "      <td>-0.479428</td>\n",
       "      <td>-0.758638</td>\n",
       "      <td>-0.590414</td>\n",
       "      <td>-1.041339</td>\n",
       "      <td>-0.903828</td>\n",
       "      <td>-0.595998</td>\n",
       "      <td>-0.468259</td>\n",
       "      <td>-0.899639</td>\n",
       "      <td>-0.715361</td>\n",
       "      <td>...</td>\n",
       "      <td>-0.622523</td>\n",
       "      <td>-0.307714</td>\n",
       "      <td>-0.318184</td>\n",
       "      <td>0.178810</td>\n",
       "      <td>1.796139</td>\n",
       "      <td>2.511618</td>\n",
       "      <td>1.944819</td>\n",
       "      <td>1.546245</td>\n",
       "      <td>1.015046</td>\n",
       "      <td>0.736533</td>\n",
       "    </tr>\n",
       "  </tbody>\n",
       "</table>\n",
       "<p>5 rows × 24 columns</p>\n",
       "</div>"
      ],
      "text/plain": [
       "         0         1         2         3         4         5         6   \\\n",
       "0 -0.518147 -0.099336 -0.292633 -0.485930 -0.131553 -0.163768 -0.582579   \n",
       "1 -0.953129 -1.443131 -1.512440 -1.697796 -1.588196 -1.639773 -1.093361   \n",
       "2 -0.028930  1.990899 -0.281408 -0.533887 -0.281408  0.476027 -0.028930   \n",
       "3  0.060092 -0.470083 -0.772989 -0.853864 -0.988282 -1.037330 -1.057924   \n",
       "4 -0.001978 -0.479428 -0.758638 -0.590414 -1.041339 -0.903828 -0.595998   \n",
       "\n",
       "         7         8         9   ...        14        15        16        17  \\\n",
       "0 -0.357066 -0.582575  2.091377  ...  1.221536  1.962506 -0.743658 -1.839010   \n",
       "1  0.502354  0.711895  0.736071  ...  0.815051  0.270250  0.094560  0.125184   \n",
       "2 -0.028930  0.476027  0.539147  ... -1.101964 -1.101964 -0.028930  0.412908   \n",
       "3 -0.762506 -0.908529 -0.737044  ... -0.451363 -0.341284 -0.310207  0.116257   \n",
       "4 -0.468259 -0.899639 -0.715361  ... -0.622523 -0.307714 -0.318184  0.178810   \n",
       "\n",
       "         18        19        20        21        22        23  \n",
       "0 -0.775876 -0.518147 -0.679228 -0.228198 -0.260417 -0.550363  \n",
       "1  0.571665  1.122910  1.316331  0.686105 -0.171391 -0.487310  \n",
       "2  2.306498  0.223549  1.864660 -0.028930 -0.028930 -0.028930  \n",
       "3  1.285195  2.322715  2.149732  1.762957  1.175865  0.641194  \n",
       "4  1.796139  2.511618  1.944819  1.546245  1.015046  0.736533  \n",
       "\n",
       "[5 rows x 24 columns]"
      ]
     },
     "execution_count": 25,
     "metadata": {},
     "output_type": "execute_result"
    }
   ],
   "source": [
    "hour_df_std = pd.DataFrame(hour_df2_std).T\n",
    "hour_df_std.columns = list(range(0, 24))\n",
    "hour_df_std.head()"
   ]
  },
  {
   "cell_type": "code",
   "execution_count": 26,
   "metadata": {
    "scrolled": true
   },
   "outputs": [
    {
     "data": {
      "text/plain": [
       "<matplotlib.axes._subplots.AxesSubplot at 0x23ac63d5da0>"
      ]
     },
     "execution_count": 26,
     "metadata": {},
     "output_type": "execute_result"
    },
    {
     "data": {
      "image/png": "[encoded data removed]",
      "text/plain": [
       "<Figure size 432x288 with 1 Axes>"
      ]
     },
     "metadata": {
      "needs_background": "light"
     },
     "output_type": "display_data"
    }
   ],
   "source": [
    "hour_df_std.T.plot(color='blue', alpha=0.05, legend=False)"
   ]
  },
  {
   "cell_type": "markdown",
   "metadata": {},
   "source": [
    "## ヒント5:  クラスタリング"
   ]
  },
  {
   "cell_type": "code",
   "execution_count": 28,
   "metadata": {},
   "outputs": [],
   "source": [
    "from sklearn.cluster import KMeans"
   ]
  },
  {
   "cell_type": "markdown",
   "metadata": {},
   "source": [
    "ElbowMethodで最適なクラスター数をみてみましょう"
   ]
  },
  {
   "cell_type": "code",
   "execution_count": 29,
   "metadata": {},
   "outputs": [
    {
     "data": {
      "image/png": "[encoded data removed]",
      "text/plain": [
       "<Figure size 432x288 with 1 Axes>"
      ]
     },
     "metadata": {
      "needs_background": "light"
     },
     "output_type": "display_data"
    }
   ],
   "source": [
    "distortions = []\n",
    "\n",
    "for i in range(1, 15):\n",
    "    km = KMeans(n_clusters=i, random_state=1234)\n",
    "    km.fit(hour_df_std)\n",
    "    distortions.append(km.inertia_)\n",
    "\n",
    "plt.plot(range(1, 15), distortions, marker='o')\n",
    "plt.xlabel('Number of clusters')\n",
    "plt.ylabel('Distortion')\n",
    "plt.show()"
   ]
  },
  {
   "cell_type": "markdown",
   "metadata": {},
   "source": [
    "今回はクラスター数：2として、試しにやってみましょう。"
   ]
  },
  {
   "cell_type": "code",
   "execution_count": 30,
   "metadata": {},
   "outputs": [],
   "source": [
    "km = KMeans(n_clusters=2, random_state=1234)"
   ]
  },
  {
   "cell_type": "code",
   "execution_count": 31,
   "metadata": {},
   "outputs": [
    {
     "data": {
      "text/plain": [
       "KMeans(algorithm='auto', copy_x=True, init='k-means++', max_iter=300,\n",
       "    n_clusters=2, n_init=10, n_jobs=None, precompute_distances='auto',\n",
       "    random_state=1234, tol=0.0001, verbose=0)"
      ]
     },
     "execution_count": 31,
     "metadata": {},
     "output_type": "execute_result"
    }
   ],
   "source": [
    "km.fit(hour_df_std)"
   ]
  },
  {
   "cell_type": "code",
   "execution_count": 32,
   "metadata": {},
   "outputs": [
    {
     "data": {
      "text/plain": [
       "<matplotlib.axes._subplots.AxesSubplot at 0x23ac50b6e48>"
      ]
     },
     "execution_count": 32,
     "metadata": {},
     "output_type": "execute_result"
    },
    {
     "data": {
      "image/png": "[encoded data removed]",
      "text/plain": [
       "<Figure size 432x288 with 1 Axes>"
      ]
     },
     "metadata": {
      "needs_background": "light"
     },
     "output_type": "display_data"
    }
   ],
   "source": [
    "pd.DataFrame(km.cluster_centers_).T.plot()"
   ]
  },
  {
   "cell_type": "code",
   "execution_count": 33,
   "metadata": {},
   "outputs": [
    {
     "data": {
      "text/plain": [
       "array([259, 111], dtype=int64)"
      ]
     },
     "execution_count": 33,
     "metadata": {},
     "output_type": "execute_result"
    }
   ],
   "source": [
    "cluster_labels = km.predict(hour_df_std)\n",
    "np.bincount(cluster_labels)"
   ]
  },
  {
   "cell_type": "code",
   "execution_count": 34,
   "metadata": {},
   "outputs": [],
   "source": [
    "hour_df_std[\"cluster_labels\"] = cluster_labels"
   ]
  },
  {
   "cell_type": "code",
   "execution_count": 35,
   "metadata": {},
   "outputs": [
    {
     "data": {
      "text/html": [
       "<div>\n",
       "<style scoped>\n",
       "    .dataframe tbody tr th:only-of-type {\n",
       "        vertical-align: middle;\n",
       "    }\n",
       "\n",
       "    .dataframe tbody tr th {\n",
       "        vertical-align: top;\n",
       "    }\n",
       "\n",
       "    .dataframe thead th {\n",
       "        text-align: right;\n",
       "    }\n",
       "</style>\n",
       "<table border=\"1\" class=\"dataframe\">\n",
       "  <thead>\n",
       "    <tr style=\"text-align: right;\">\n",
       "      <th></th>\n",
       "      <th>0</th>\n",
       "      <th>1</th>\n",
       "      <th>2</th>\n",
       "      <th>3</th>\n",
       "      <th>4</th>\n",
       "      <th>5</th>\n",
       "      <th>6</th>\n",
       "      <th>7</th>\n",
       "      <th>8</th>\n",
       "      <th>9</th>\n",
       "      <th>...</th>\n",
       "      <th>15</th>\n",
       "      <th>16</th>\n",
       "      <th>17</th>\n",
       "      <th>18</th>\n",
       "      <th>19</th>\n",
       "      <th>20</th>\n",
       "      <th>21</th>\n",
       "      <th>22</th>\n",
       "      <th>23</th>\n",
       "      <th>cluster_labels</th>\n",
       "    </tr>\n",
       "  </thead>\n",
       "  <tbody>\n",
       "    <tr>\n",
       "      <th>0</th>\n",
       "      <td>-0.518147</td>\n",
       "      <td>-0.099336</td>\n",
       "      <td>-0.292633</td>\n",
       "      <td>-0.485930</td>\n",
       "      <td>-0.131553</td>\n",
       "      <td>-0.163768</td>\n",
       "      <td>-0.582579</td>\n",
       "      <td>-0.357066</td>\n",
       "      <td>-0.582575</td>\n",
       "      <td>2.091377</td>\n",
       "      <td>...</td>\n",
       "      <td>1.962506</td>\n",
       "      <td>-0.743658</td>\n",
       "      <td>-1.839010</td>\n",
       "      <td>-0.775876</td>\n",
       "      <td>-0.518147</td>\n",
       "      <td>-0.679228</td>\n",
       "      <td>-0.228198</td>\n",
       "      <td>-0.260417</td>\n",
       "      <td>-0.550363</td>\n",
       "      <td>0</td>\n",
       "    </tr>\n",
       "    <tr>\n",
       "      <th>1</th>\n",
       "      <td>-0.953129</td>\n",
       "      <td>-1.443131</td>\n",
       "      <td>-1.512440</td>\n",
       "      <td>-1.697796</td>\n",
       "      <td>-1.588196</td>\n",
       "      <td>-1.639773</td>\n",
       "      <td>-1.093361</td>\n",
       "      <td>0.502354</td>\n",
       "      <td>0.711895</td>\n",
       "      <td>0.736071</td>\n",
       "      <td>...</td>\n",
       "      <td>0.270250</td>\n",
       "      <td>0.094560</td>\n",
       "      <td>0.125184</td>\n",
       "      <td>0.571665</td>\n",
       "      <td>1.122910</td>\n",
       "      <td>1.316331</td>\n",
       "      <td>0.686105</td>\n",
       "      <td>-0.171391</td>\n",
       "      <td>-0.487310</td>\n",
       "      <td>0</td>\n",
       "    </tr>\n",
       "    <tr>\n",
       "      <th>2</th>\n",
       "      <td>-0.028930</td>\n",
       "      <td>1.990899</td>\n",
       "      <td>-0.281408</td>\n",
       "      <td>-0.533887</td>\n",
       "      <td>-0.281408</td>\n",
       "      <td>0.476027</td>\n",
       "      <td>-0.028930</td>\n",
       "      <td>-0.028930</td>\n",
       "      <td>0.476027</td>\n",
       "      <td>0.539147</td>\n",
       "      <td>...</td>\n",
       "      <td>-1.101964</td>\n",
       "      <td>-0.028930</td>\n",
       "      <td>0.412908</td>\n",
       "      <td>2.306498</td>\n",
       "      <td>0.223549</td>\n",
       "      <td>1.864660</td>\n",
       "      <td>-0.028930</td>\n",
       "      <td>-0.028930</td>\n",
       "      <td>-0.028930</td>\n",
       "      <td>1</td>\n",
       "    </tr>\n",
       "    <tr>\n",
       "      <th>3</th>\n",
       "      <td>0.060092</td>\n",
       "      <td>-0.470083</td>\n",
       "      <td>-0.772989</td>\n",
       "      <td>-0.853864</td>\n",
       "      <td>-0.988282</td>\n",
       "      <td>-1.037330</td>\n",
       "      <td>-1.057924</td>\n",
       "      <td>-0.762506</td>\n",
       "      <td>-0.908529</td>\n",
       "      <td>-0.737044</td>\n",
       "      <td>...</td>\n",
       "      <td>-0.341284</td>\n",
       "      <td>-0.310207</td>\n",
       "      <td>0.116257</td>\n",
       "      <td>1.285195</td>\n",
       "      <td>2.322715</td>\n",
       "      <td>2.149732</td>\n",
       "      <td>1.762957</td>\n",
       "      <td>1.175865</td>\n",
       "      <td>0.641194</td>\n",
       "      <td>1</td>\n",
       "    </tr>\n",
       "    <tr>\n",
       "      <th>4</th>\n",
       "      <td>-0.001978</td>\n",
       "      <td>-0.479428</td>\n",
       "      <td>-0.758638</td>\n",
       "      <td>-0.590414</td>\n",
       "      <td>-1.041339</td>\n",
       "      <td>-0.903828</td>\n",
       "      <td>-0.595998</td>\n",
       "      <td>-0.468259</td>\n",
       "      <td>-0.899639</td>\n",
       "      <td>-0.715361</td>\n",
       "      <td>...</td>\n",
       "      <td>-0.307714</td>\n",
       "      <td>-0.318184</td>\n",
       "      <td>0.178810</td>\n",
       "      <td>1.796139</td>\n",
       "      <td>2.511618</td>\n",
       "      <td>1.944819</td>\n",
       "      <td>1.546245</td>\n",
       "      <td>1.015046</td>\n",
       "      <td>0.736533</td>\n",
       "      <td>1</td>\n",
       "    </tr>\n",
       "  </tbody>\n",
       "</table>\n",
       "<p>5 rows × 25 columns</p>\n",
       "</div>"
      ],
      "text/plain": [
       "          0         1         2         3         4         5         6  \\\n",
       "0 -0.518147 -0.099336 -0.292633 -0.485930 -0.131553 -0.163768 -0.582579   \n",
       "1 -0.953129 -1.443131 -1.512440 -1.697796 -1.588196 -1.639773 -1.093361   \n",
       "2 -0.028930  1.990899 -0.281408 -0.533887 -0.281408  0.476027 -0.028930   \n",
       "3  0.060092 -0.470083 -0.772989 -0.853864 -0.988282 -1.037330 -1.057924   \n",
       "4 -0.001978 -0.479428 -0.758638 -0.590414 -1.041339 -0.903828 -0.595998   \n",
       "\n",
       "          7         8         9  ...        15        16        17        18  \\\n",
       "0 -0.357066 -0.582575  2.091377  ...  1.962506 -0.743658 -1.839010 -0.775876   \n",
       "1  0.502354  0.711895  0.736071  ...  0.270250  0.094560  0.125184  0.571665   \n",
       "2 -0.028930  0.476027  0.539147  ... -1.101964 -0.028930  0.412908  2.306498   \n",
       "3 -0.762506 -0.908529 -0.737044  ... -0.341284 -0.310207  0.116257  1.285195   \n",
       "4 -0.468259 -0.899639 -0.715361  ... -0.307714 -0.318184  0.178810  1.796139   \n",
       "\n",
       "         19        20        21        22        23  cluster_labels  \n",
       "0 -0.518147 -0.679228 -0.228198 -0.260417 -0.550363               0  \n",
       "1  1.122910  1.316331  0.686105 -0.171391 -0.487310               0  \n",
       "2  0.223549  1.864660 -0.028930 -0.028930 -0.028930               1  \n",
       "3  2.322715  2.149732  1.762957  1.175865  0.641194               1  \n",
       "4  2.511618  1.944819  1.546245  1.015046  0.736533               1  \n",
       "\n",
       "[5 rows x 25 columns]"
      ]
     },
     "execution_count": 35,
     "metadata": {},
     "output_type": "execute_result"
    }
   ],
   "source": [
    "hour_df_std.head()"
   ]
  },
  {
   "cell_type": "code",
   "execution_count": 36,
   "metadata": {
    "scrolled": true
   },
   "outputs": [
    {
     "data": {
      "image/png": "[encoded data removed]",
      "text/plain": [
       "<Figure size 432x288 with 1 Axes>"
      ]
     },
     "metadata": {
      "needs_background": "light"
     },
     "output_type": "display_data"
    }
   ],
   "source": [
    "ax = hour_df_std[hour_df_std[\"cluster_labels\"] == 0][list(\n",
    "    range(0, 24))].T.plot(color='blue', alpha=0.05, legend=False)\n",
    "ax.set_xticks(list(range(0, 24, 2)))\n",
    "ax.grid(which=\"major\", axis=\"x\", color=\"blue\",\n",
    "        alpha=0.1, linestyle=\"--\", linewidth=1)"
   ]
  },
  {
   "cell_type": "code",
   "execution_count": 38,
   "metadata": {
    "scrolled": false
   },
   "outputs": [
    {
     "data": {
      "image/png": "[encoded data removed]",
      "text/plain": [
       "<Figure size 432x288 with 1 Axes>"
      ]
     },
     "metadata": {
      "needs_background": "light"
     },
     "output_type": "display_data"
    }
   ],
   "source": [
    "ax = hour_df_std[hour_df_std[\"cluster_labels\"] == 1][list(\n",
    "    range(0, 24))].T.plot(color='blue', alpha=0.05, legend=False)\n",
    "ax.set_xticks(list(range(0, 24, 2)))\n",
    "ax.grid(which=\"major\", axis=\"x\", color=\"blue\",\n",
    "        alpha=0.1, linestyle=\"--\", linewidth=1)"
   ]
  },
  {
   "cell_type": "code",
   "execution_count": 39,
   "metadata": {},
   "outputs": [],
   "source": [
    "agg_df = hour_df.copy()"
   ]
  },
  {
   "cell_type": "code",
   "execution_count": 40,
   "metadata": {},
   "outputs": [],
   "source": [
    "agg_df[\"cluster_labels\"] = cluster_labels"
   ]
  },
  {
   "cell_type": "code",
   "execution_count": 41,
   "metadata": {
    "scrolled": true
   },
   "outputs": [],
   "source": [
    "agg_pt = agg_df.groupby([\"cluster_labels\"]).aggregate(\n",
    "    {\"customer_id\": \"nunique\"})"
   ]
  },
  {
   "cell_type": "code",
   "execution_count": 42,
   "metadata": {},
   "outputs": [
    {
     "data": {
      "text/html": [
       "<div>\n",
       "<style scoped>\n",
       "    .dataframe tbody tr th:only-of-type {\n",
       "        vertical-align: middle;\n",
       "    }\n",
       "\n",
       "    .dataframe tbody tr th {\n",
       "        vertical-align: top;\n",
       "    }\n",
       "\n",
       "    .dataframe thead th {\n",
       "        text-align: right;\n",
       "    }\n",
       "</style>\n",
       "<table border=\"1\" class=\"dataframe\">\n",
       "  <thead>\n",
       "    <tr style=\"text-align: right;\">\n",
       "      <th></th>\n",
       "      <th>customer_id</th>\n",
       "    </tr>\n",
       "    <tr>\n",
       "      <th>cluster_labels</th>\n",
       "      <th></th>\n",
       "    </tr>\n",
       "  </thead>\n",
       "  <tbody>\n",
       "    <tr>\n",
       "      <th>0</th>\n",
       "      <td>259</td>\n",
       "    </tr>\n",
       "    <tr>\n",
       "      <th>1</th>\n",
       "      <td>111</td>\n",
       "    </tr>\n",
       "  </tbody>\n",
       "</table>\n",
       "</div>"
      ],
      "text/plain": [
       "                customer_id\n",
       "cluster_labels             \n",
       "0                       259\n",
       "1                       111"
      ]
     },
     "execution_count": 42,
     "metadata": {},
     "output_type": "execute_result"
    }
   ],
   "source": [
    "agg_pt"
   ]
  },
  {
   "cell_type": "markdown",
   "metadata": {},
   "source": [
    "## クラスタリングのパターン\n",
    "- クラスター0：グラフからは9時〜20時の日中から夜までよく電力を使う顧客, 顧客数259\n",
    "- クラスター1：グラフからは18時〜22時の夜によく電力を使う顧客, 顧客数111"
   ]
  }
 ],
 "metadata": {
  "kernelspec": {
   "display_name": "Python 3",
   "language": "python",
   "name": "python3"
  },
  "language_info": {
   "codemirror_mode": {
    "name": "ipython",
    "version": 3
   },
   "file_extension": ".py",
   "mimetype": "text/x-python",
   "name": "python",
   "nbconvert_exporter": "python",
   "pygments_lexer": "ipython3",
   "version": "3.7.1"
  }
 },
 "nbformat": 4,
 "nbformat_minor": 2
}
