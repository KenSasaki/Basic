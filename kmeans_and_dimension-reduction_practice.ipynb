{
 "cells": [
  {
   "cell_type": "markdown",
   "metadata": {},
   "source": [
    "## 次元圧縮の練習"
   ]
  },
  {
   "cell_type": "code",
   "execution_count": 1,
   "metadata": {},
   "outputs": [],
   "source": [
    "import pandas as pd\n",
    "import numpy as np\n",
    "import matplotlib\n",
    "import matplotlib.pyplot as plt\n",
    "%matplotlib inline\n",
    "import random\n",
    "random.seed(0)"
   ]
  },
  {
   "cell_type": "markdown",
   "metadata": {},
   "source": [
    "### ニュースキュレーションアプリのサンプルデータを扱ってみましょう"
   ]
  },
  {
   "cell_type": "code",
   "execution_count": 2,
   "metadata": {
    "scrolled": true
   },
   "outputs": [],
   "source": [
    "data = pd.read_csv('data/news_curation_data.csv')"
   ]
  },
  {
   "cell_type": "code",
   "execution_count": 3,
   "metadata": {
    "scrolled": false
   },
   "outputs": [
    {
     "data": {
      "text/plain": [
       "(11000, 15)"
      ]
     },
     "execution_count": 3,
     "metadata": {},
     "output_type": "execute_result"
    }
   ],
   "source": [
    "data.shape"
   ]
  },
  {
   "cell_type": "code",
   "execution_count": 4,
   "metadata": {
    "scrolled": true
   },
   "outputs": [
    {
     "data": {
      "text/html": [
       "<div>\n",
       "<style scoped>\n",
       "    .dataframe tbody tr th:only-of-type {\n",
       "        vertical-align: middle;\n",
       "    }\n",
       "\n",
       "    .dataframe tbody tr th {\n",
       "        vertical-align: top;\n",
       "    }\n",
       "\n",
       "    .dataframe thead th {\n",
       "        text-align: right;\n",
       "    }\n",
       "</style>\n",
       "<table border=\"1\" class=\"dataframe\">\n",
       "  <thead>\n",
       "    <tr style=\"text-align: right;\">\n",
       "      <th></th>\n",
       "      <th>年代</th>\n",
       "      <th>性別</th>\n",
       "      <th>平日：00:00-06:00</th>\n",
       "      <th>平日：06:00-12:00</th>\n",
       "      <th>平日：12:00-18:00</th>\n",
       "      <th>平日：18:00-24:00</th>\n",
       "      <th>週末：00:00-06:00</th>\n",
       "      <th>週末：06:00-12:00</th>\n",
       "      <th>週末：12:00-18:00</th>\n",
       "      <th>週末：18:00-24:00</th>\n",
       "      <th>テクノロジー</th>\n",
       "      <th>経済・政治</th>\n",
       "      <th>エンタメ</th>\n",
       "      <th>国際</th>\n",
       "      <th>アニメ</th>\n",
       "    </tr>\n",
       "  </thead>\n",
       "  <tbody>\n",
       "    <tr>\n",
       "      <th>0</th>\n",
       "      <td>30</td>\n",
       "      <td>女性</td>\n",
       "      <td>1</td>\n",
       "      <td>1</td>\n",
       "      <td>10</td>\n",
       "      <td>0</td>\n",
       "      <td>1</td>\n",
       "      <td>1</td>\n",
       "      <td>1</td>\n",
       "      <td>1</td>\n",
       "      <td>1</td>\n",
       "      <td>1</td>\n",
       "      <td>7</td>\n",
       "      <td>1</td>\n",
       "      <td>1</td>\n",
       "    </tr>\n",
       "    <tr>\n",
       "      <th>1</th>\n",
       "      <td>30</td>\n",
       "      <td>女性</td>\n",
       "      <td>12</td>\n",
       "      <td>1</td>\n",
       "      <td>1</td>\n",
       "      <td>1</td>\n",
       "      <td>1</td>\n",
       "      <td>1</td>\n",
       "      <td>5</td>\n",
       "      <td>0</td>\n",
       "      <td>3</td>\n",
       "      <td>1</td>\n",
       "      <td>1</td>\n",
       "      <td>1</td>\n",
       "      <td>11</td>\n",
       "    </tr>\n",
       "    <tr>\n",
       "      <th>2</th>\n",
       "      <td>40</td>\n",
       "      <td>女性</td>\n",
       "      <td>1</td>\n",
       "      <td>5</td>\n",
       "      <td>1</td>\n",
       "      <td>1</td>\n",
       "      <td>1</td>\n",
       "      <td>5</td>\n",
       "      <td>1</td>\n",
       "      <td>1</td>\n",
       "      <td>1</td>\n",
       "      <td>3</td>\n",
       "      <td>1</td>\n",
       "      <td>4</td>\n",
       "      <td>1</td>\n",
       "    </tr>\n",
       "    <tr>\n",
       "      <th>3</th>\n",
       "      <td>20</td>\n",
       "      <td>女性</td>\n",
       "      <td>10</td>\n",
       "      <td>1</td>\n",
       "      <td>1</td>\n",
       "      <td>1</td>\n",
       "      <td>1</td>\n",
       "      <td>0</td>\n",
       "      <td>5</td>\n",
       "      <td>1</td>\n",
       "      <td>2</td>\n",
       "      <td>1</td>\n",
       "      <td>1</td>\n",
       "      <td>1</td>\n",
       "      <td>10</td>\n",
       "    </tr>\n",
       "    <tr>\n",
       "      <th>4</th>\n",
       "      <td>30</td>\n",
       "      <td>女性</td>\n",
       "      <td>1</td>\n",
       "      <td>1</td>\n",
       "      <td>12</td>\n",
       "      <td>1</td>\n",
       "      <td>0</td>\n",
       "      <td>1</td>\n",
       "      <td>1</td>\n",
       "      <td>1</td>\n",
       "      <td>1</td>\n",
       "      <td>1</td>\n",
       "      <td>7</td>\n",
       "      <td>1</td>\n",
       "      <td>1</td>\n",
       "    </tr>\n",
       "  </tbody>\n",
       "</table>\n",
       "</div>"
      ],
      "text/plain": [
       "   年代  性別  平日：00:00-06:00  平日：06:00-12:00  平日：12:00-18:00  平日：18:00-24:00  \\\n",
       "0  30  女性               1               1              10               0   \n",
       "1  30  女性              12               1               1               1   \n",
       "2  40  女性               1               5               1               1   \n",
       "3  20  女性              10               1               1               1   \n",
       "4  30  女性               1               1              12               1   \n",
       "\n",
       "   週末：00:00-06:00  週末：06:00-12:00  週末：12:00-18:00  週末：18:00-24:00  テクノロジー  \\\n",
       "0               1               1               1               1       1   \n",
       "1               1               1               5               0       3   \n",
       "2               1               5               1               1       1   \n",
       "3               1               0               5               1       2   \n",
       "4               0               1               1               1       1   \n",
       "\n",
       "   経済・政治  エンタメ  国際  アニメ  \n",
       "0      1     7   1    1  \n",
       "1      1     1   1   11  \n",
       "2      3     1   4    1  \n",
       "3      1     1   1   10  \n",
       "4      1     7   1    1  "
      ]
     },
     "execution_count": 4,
     "metadata": {},
     "output_type": "execute_result"
    }
   ],
   "source": [
    "data.head(5)"
   ]
  },
  {
   "cell_type": "code",
   "execution_count": 5,
   "metadata": {
    "scrolled": false
   },
   "outputs": [
    {
     "name": "stdout",
     "output_type": "stream",
     "text": [
      "<class 'pandas.core.frame.DataFrame'>\n",
      "RangeIndex: 11000 entries, 0 to 10999\n",
      "Data columns (total 15 columns):\n",
      "年代                11000 non-null int64\n",
      "性別                11000 non-null object\n",
      "平日：00:00-06:00    11000 non-null int64\n",
      "平日：06:00-12:00    11000 non-null int64\n",
      "平日：12:00-18:00    11000 non-null int64\n",
      "平日：18:00-24:00    11000 non-null int64\n",
      "週末：00:00-06:00    11000 non-null int64\n",
      "週末：06:00-12:00    11000 non-null int64\n",
      "週末：12:00-18:00    11000 non-null int64\n",
      "週末：18:00-24:00    11000 non-null int64\n",
      "テクノロジー            11000 non-null int64\n",
      "経済・政治             11000 non-null int64\n",
      "エンタメ              11000 non-null int64\n",
      "国際                11000 non-null int64\n",
      "アニメ               11000 non-null int64\n",
      "dtypes: int64(14), object(1)\n",
      "memory usage: 1.3+ MB\n"
     ]
    }
   ],
   "source": [
    "data.info()"
   ]
  },
  {
   "cell_type": "code",
   "execution_count": 6,
   "metadata": {
    "scrolled": true
   },
   "outputs": [
    {
     "data": {
      "text/html": [
       "<div>\n",
       "<style scoped>\n",
       "    .dataframe tbody tr th:only-of-type {\n",
       "        vertical-align: middle;\n",
       "    }\n",
       "\n",
       "    .dataframe tbody tr th {\n",
       "        vertical-align: top;\n",
       "    }\n",
       "\n",
       "    .dataframe thead th {\n",
       "        text-align: right;\n",
       "    }\n",
       "</style>\n",
       "<table border=\"1\" class=\"dataframe\">\n",
       "  <thead>\n",
       "    <tr style=\"text-align: right;\">\n",
       "      <th></th>\n",
       "      <th>年代</th>\n",
       "      <th>平日：00:00-06:00</th>\n",
       "      <th>平日：06:00-12:00</th>\n",
       "      <th>平日：12:00-18:00</th>\n",
       "      <th>平日：18:00-24:00</th>\n",
       "      <th>週末：00:00-06:00</th>\n",
       "      <th>週末：06:00-12:00</th>\n",
       "      <th>週末：12:00-18:00</th>\n",
       "      <th>週末：18:00-24:00</th>\n",
       "      <th>テクノロジー</th>\n",
       "      <th>経済・政治</th>\n",
       "      <th>エンタメ</th>\n",
       "      <th>国際</th>\n",
       "      <th>アニメ</th>\n",
       "    </tr>\n",
       "  </thead>\n",
       "  <tbody>\n",
       "    <tr>\n",
       "      <th>count</th>\n",
       "      <td>11000.000000</td>\n",
       "      <td>11000.000000</td>\n",
       "      <td>11000.000000</td>\n",
       "      <td>11000.000000</td>\n",
       "      <td>11000.000000</td>\n",
       "      <td>11000.000000</td>\n",
       "      <td>11000.000000</td>\n",
       "      <td>11000.000000</td>\n",
       "      <td>11000.000000</td>\n",
       "      <td>11000.000000</td>\n",
       "      <td>11000.000000</td>\n",
       "      <td>11000.000000</td>\n",
       "      <td>11000.000000</td>\n",
       "      <td>11000.000000</td>\n",
       "    </tr>\n",
       "    <tr>\n",
       "      <th>mean</th>\n",
       "      <td>26.922727</td>\n",
       "      <td>4.417545</td>\n",
       "      <td>3.317091</td>\n",
       "      <td>3.108727</td>\n",
       "      <td>0.943182</td>\n",
       "      <td>0.948636</td>\n",
       "      <td>1.148545</td>\n",
       "      <td>2.589091</td>\n",
       "      <td>0.945909</td>\n",
       "      <td>1.636818</td>\n",
       "      <td>3.398909</td>\n",
       "      <td>2.662091</td>\n",
       "      <td>1.269091</td>\n",
       "      <td>3.109273</td>\n",
       "    </tr>\n",
       "    <tr>\n",
       "      <th>std</th>\n",
       "      <td>8.221933</td>\n",
       "      <td>4.653414</td>\n",
       "      <td>4.028605</td>\n",
       "      <td>4.021693</td>\n",
       "      <td>0.248550</td>\n",
       "      <td>0.240461</td>\n",
       "      <td>0.978414</td>\n",
       "      <td>2.227384</td>\n",
       "      <td>0.244740</td>\n",
       "      <td>0.856357</td>\n",
       "      <td>3.447469</td>\n",
       "      <td>3.214673</td>\n",
       "      <td>0.788792</td>\n",
       "      <td>4.033213</td>\n",
       "    </tr>\n",
       "    <tr>\n",
       "      <th>min</th>\n",
       "      <td>0.000000</td>\n",
       "      <td>0.000000</td>\n",
       "      <td>0.000000</td>\n",
       "      <td>0.000000</td>\n",
       "      <td>0.000000</td>\n",
       "      <td>0.000000</td>\n",
       "      <td>0.000000</td>\n",
       "      <td>0.000000</td>\n",
       "      <td>0.000000</td>\n",
       "      <td>0.000000</td>\n",
       "      <td>0.000000</td>\n",
       "      <td>0.000000</td>\n",
       "      <td>0.000000</td>\n",
       "      <td>0.000000</td>\n",
       "    </tr>\n",
       "    <tr>\n",
       "      <th>25%</th>\n",
       "      <td>20.000000</td>\n",
       "      <td>1.000000</td>\n",
       "      <td>1.000000</td>\n",
       "      <td>1.000000</td>\n",
       "      <td>1.000000</td>\n",
       "      <td>1.000000</td>\n",
       "      <td>1.000000</td>\n",
       "      <td>1.000000</td>\n",
       "      <td>1.000000</td>\n",
       "      <td>1.000000</td>\n",
       "      <td>1.000000</td>\n",
       "      <td>1.000000</td>\n",
       "      <td>1.000000</td>\n",
       "      <td>1.000000</td>\n",
       "    </tr>\n",
       "    <tr>\n",
       "      <th>50%</th>\n",
       "      <td>30.000000</td>\n",
       "      <td>1.000000</td>\n",
       "      <td>1.000000</td>\n",
       "      <td>1.000000</td>\n",
       "      <td>1.000000</td>\n",
       "      <td>1.000000</td>\n",
       "      <td>1.000000</td>\n",
       "      <td>1.000000</td>\n",
       "      <td>1.000000</td>\n",
       "      <td>1.000000</td>\n",
       "      <td>1.000000</td>\n",
       "      <td>1.000000</td>\n",
       "      <td>1.000000</td>\n",
       "      <td>1.000000</td>\n",
       "    </tr>\n",
       "    <tr>\n",
       "      <th>75%</th>\n",
       "      <td>30.000000</td>\n",
       "      <td>10.000000</td>\n",
       "      <td>5.000000</td>\n",
       "      <td>1.000000</td>\n",
       "      <td>1.000000</td>\n",
       "      <td>1.000000</td>\n",
       "      <td>1.000000</td>\n",
       "      <td>5.000000</td>\n",
       "      <td>1.000000</td>\n",
       "      <td>2.000000</td>\n",
       "      <td>6.000000</td>\n",
       "      <td>1.000000</td>\n",
       "      <td>1.000000</td>\n",
       "      <td>1.000000</td>\n",
       "    </tr>\n",
       "    <tr>\n",
       "      <th>max</th>\n",
       "      <td>60.000000</td>\n",
       "      <td>14.000000</td>\n",
       "      <td>14.000000</td>\n",
       "      <td>14.000000</td>\n",
       "      <td>2.000000</td>\n",
       "      <td>2.000000</td>\n",
       "      <td>7.000000</td>\n",
       "      <td>7.000000</td>\n",
       "      <td>2.000000</td>\n",
       "      <td>3.000000</td>\n",
       "      <td>14.000000</td>\n",
       "      <td>12.000000</td>\n",
       "      <td>5.000000</td>\n",
       "      <td>14.000000</td>\n",
       "    </tr>\n",
       "  </tbody>\n",
       "</table>\n",
       "</div>"
      ],
      "text/plain": [
       "                 年代  平日：00:00-06:00  平日：06:00-12:00  平日：12:00-18:00  \\\n",
       "count  11000.000000    11000.000000    11000.000000    11000.000000   \n",
       "mean      26.922727        4.417545        3.317091        3.108727   \n",
       "std        8.221933        4.653414        4.028605        4.021693   \n",
       "min        0.000000        0.000000        0.000000        0.000000   \n",
       "25%       20.000000        1.000000        1.000000        1.000000   \n",
       "50%       30.000000        1.000000        1.000000        1.000000   \n",
       "75%       30.000000       10.000000        5.000000        1.000000   \n",
       "max       60.000000       14.000000       14.000000       14.000000   \n",
       "\n",
       "       平日：18:00-24:00  週末：00:00-06:00  週末：06:00-12:00  週末：12:00-18:00  \\\n",
       "count    11000.000000    11000.000000    11000.000000    11000.000000   \n",
       "mean         0.943182        0.948636        1.148545        2.589091   \n",
       "std          0.248550        0.240461        0.978414        2.227384   \n",
       "min          0.000000        0.000000        0.000000        0.000000   \n",
       "25%          1.000000        1.000000        1.000000        1.000000   \n",
       "50%          1.000000        1.000000        1.000000        1.000000   \n",
       "75%          1.000000        1.000000        1.000000        5.000000   \n",
       "max          2.000000        2.000000        7.000000        7.000000   \n",
       "\n",
       "       週末：18:00-24:00        テクノロジー         経済・政治          エンタメ            国際  \\\n",
       "count    11000.000000  11000.000000  11000.000000  11000.000000  11000.000000   \n",
       "mean         0.945909      1.636818      3.398909      2.662091      1.269091   \n",
       "std          0.244740      0.856357      3.447469      3.214673      0.788792   \n",
       "min          0.000000      0.000000      0.000000      0.000000      0.000000   \n",
       "25%          1.000000      1.000000      1.000000      1.000000      1.000000   \n",
       "50%          1.000000      1.000000      1.000000      1.000000      1.000000   \n",
       "75%          1.000000      2.000000      6.000000      1.000000      1.000000   \n",
       "max          2.000000      3.000000     14.000000     12.000000      5.000000   \n",
       "\n",
       "                アニメ  \n",
       "count  11000.000000  \n",
       "mean       3.109273  \n",
       "std        4.033213  \n",
       "min        0.000000  \n",
       "25%        1.000000  \n",
       "50%        1.000000  \n",
       "75%        1.000000  \n",
       "max       14.000000  "
      ]
     },
     "execution_count": 6,
     "metadata": {},
     "output_type": "execute_result"
    }
   ],
   "source": [
    "data.describe()"
   ]
  },
  {
   "cell_type": "code",
   "execution_count": 7,
   "metadata": {},
   "outputs": [],
   "source": [
    "# 性別、年代をダミー変数にする\n",
    "data = pd.get_dummies(data, drop_first=True, columns=['性別'])\n",
    "data = pd.get_dummies(data, drop_first=True, columns=['年代'])"
   ]
  },
  {
   "cell_type": "code",
   "execution_count": 8,
   "metadata": {},
   "outputs": [
    {
     "data": {
      "text/html": [
       "<div>\n",
       "<style scoped>\n",
       "    .dataframe tbody tr th:only-of-type {\n",
       "        vertical-align: middle;\n",
       "    }\n",
       "\n",
       "    .dataframe tbody tr th {\n",
       "        vertical-align: top;\n",
       "    }\n",
       "\n",
       "    .dataframe thead th {\n",
       "        text-align: right;\n",
       "    }\n",
       "</style>\n",
       "<table border=\"1\" class=\"dataframe\">\n",
       "  <thead>\n",
       "    <tr style=\"text-align: right;\">\n",
       "      <th></th>\n",
       "      <th>平日：00:00-06:00</th>\n",
       "      <th>平日：06:00-12:00</th>\n",
       "      <th>平日：12:00-18:00</th>\n",
       "      <th>平日：18:00-24:00</th>\n",
       "      <th>週末：00:00-06:00</th>\n",
       "      <th>週末：06:00-12:00</th>\n",
       "      <th>週末：12:00-18:00</th>\n",
       "      <th>週末：18:00-24:00</th>\n",
       "      <th>テクノロジー</th>\n",
       "      <th>経済・政治</th>\n",
       "      <th>エンタメ</th>\n",
       "      <th>国際</th>\n",
       "      <th>アニメ</th>\n",
       "      <th>性別_男性</th>\n",
       "      <th>年代_10</th>\n",
       "      <th>年代_20</th>\n",
       "      <th>年代_30</th>\n",
       "      <th>年代_40</th>\n",
       "      <th>年代_50</th>\n",
       "      <th>年代_60</th>\n",
       "    </tr>\n",
       "  </thead>\n",
       "  <tbody>\n",
       "    <tr>\n",
       "      <th>0</th>\n",
       "      <td>1</td>\n",
       "      <td>1</td>\n",
       "      <td>10</td>\n",
       "      <td>0</td>\n",
       "      <td>1</td>\n",
       "      <td>1</td>\n",
       "      <td>1</td>\n",
       "      <td>1</td>\n",
       "      <td>1</td>\n",
       "      <td>1</td>\n",
       "      <td>7</td>\n",
       "      <td>1</td>\n",
       "      <td>1</td>\n",
       "      <td>0</td>\n",
       "      <td>0</td>\n",
       "      <td>0</td>\n",
       "      <td>1</td>\n",
       "      <td>0</td>\n",
       "      <td>0</td>\n",
       "      <td>0</td>\n",
       "    </tr>\n",
       "    <tr>\n",
       "      <th>1</th>\n",
       "      <td>12</td>\n",
       "      <td>1</td>\n",
       "      <td>1</td>\n",
       "      <td>1</td>\n",
       "      <td>1</td>\n",
       "      <td>1</td>\n",
       "      <td>5</td>\n",
       "      <td>0</td>\n",
       "      <td>3</td>\n",
       "      <td>1</td>\n",
       "      <td>1</td>\n",
       "      <td>1</td>\n",
       "      <td>11</td>\n",
       "      <td>0</td>\n",
       "      <td>0</td>\n",
       "      <td>0</td>\n",
       "      <td>1</td>\n",
       "      <td>0</td>\n",
       "      <td>0</td>\n",
       "      <td>0</td>\n",
       "    </tr>\n",
       "    <tr>\n",
       "      <th>2</th>\n",
       "      <td>1</td>\n",
       "      <td>5</td>\n",
       "      <td>1</td>\n",
       "      <td>1</td>\n",
       "      <td>1</td>\n",
       "      <td>5</td>\n",
       "      <td>1</td>\n",
       "      <td>1</td>\n",
       "      <td>1</td>\n",
       "      <td>3</td>\n",
       "      <td>1</td>\n",
       "      <td>4</td>\n",
       "      <td>1</td>\n",
       "      <td>0</td>\n",
       "      <td>0</td>\n",
       "      <td>0</td>\n",
       "      <td>0</td>\n",
       "      <td>1</td>\n",
       "      <td>0</td>\n",
       "      <td>0</td>\n",
       "    </tr>\n",
       "    <tr>\n",
       "      <th>3</th>\n",
       "      <td>10</td>\n",
       "      <td>1</td>\n",
       "      <td>1</td>\n",
       "      <td>1</td>\n",
       "      <td>1</td>\n",
       "      <td>0</td>\n",
       "      <td>5</td>\n",
       "      <td>1</td>\n",
       "      <td>2</td>\n",
       "      <td>1</td>\n",
       "      <td>1</td>\n",
       "      <td>1</td>\n",
       "      <td>10</td>\n",
       "      <td>0</td>\n",
       "      <td>0</td>\n",
       "      <td>1</td>\n",
       "      <td>0</td>\n",
       "      <td>0</td>\n",
       "      <td>0</td>\n",
       "      <td>0</td>\n",
       "    </tr>\n",
       "    <tr>\n",
       "      <th>4</th>\n",
       "      <td>1</td>\n",
       "      <td>1</td>\n",
       "      <td>12</td>\n",
       "      <td>1</td>\n",
       "      <td>0</td>\n",
       "      <td>1</td>\n",
       "      <td>1</td>\n",
       "      <td>1</td>\n",
       "      <td>1</td>\n",
       "      <td>1</td>\n",
       "      <td>7</td>\n",
       "      <td>1</td>\n",
       "      <td>1</td>\n",
       "      <td>0</td>\n",
       "      <td>0</td>\n",
       "      <td>0</td>\n",
       "      <td>1</td>\n",
       "      <td>0</td>\n",
       "      <td>0</td>\n",
       "      <td>0</td>\n",
       "    </tr>\n",
       "  </tbody>\n",
       "</table>\n",
       "</div>"
      ],
      "text/plain": [
       "   平日：00:00-06:00  平日：06:00-12:00  平日：12:00-18:00  平日：18:00-24:00  \\\n",
       "0               1               1              10               0   \n",
       "1              12               1               1               1   \n",
       "2               1               5               1               1   \n",
       "3              10               1               1               1   \n",
       "4               1               1              12               1   \n",
       "\n",
       "   週末：00:00-06:00  週末：06:00-12:00  週末：12:00-18:00  週末：18:00-24:00  テクノロジー  \\\n",
       "0               1               1               1               1       1   \n",
       "1               1               1               5               0       3   \n",
       "2               1               5               1               1       1   \n",
       "3               1               0               5               1       2   \n",
       "4               0               1               1               1       1   \n",
       "\n",
       "   経済・政治  エンタメ  国際  アニメ  性別_男性  年代_10  年代_20  年代_30  年代_40  年代_50  年代_60  \n",
       "0      1     7   1    1      0      0      0      1      0      0      0  \n",
       "1      1     1   1   11      0      0      0      1      0      0      0  \n",
       "2      3     1   4    1      0      0      0      0      1      0      0  \n",
       "3      1     1   1   10      0      0      1      0      0      0      0  \n",
       "4      1     7   1    1      0      0      0      1      0      0      0  "
      ]
     },
     "execution_count": 8,
     "metadata": {},
     "output_type": "execute_result"
    }
   ],
   "source": [
    "data.head()"
   ]
  },
  {
   "cell_type": "markdown",
   "metadata": {},
   "source": [
    "## scikit-learnを使ったKMeansライブラリを使用してみましょう"
   ]
  },
  {
   "cell_type": "code",
   "execution_count": 9,
   "metadata": {},
   "outputs": [],
   "source": [
    "# Kmeansでクラスターラベルを付与します\n",
    "from sklearn.cluster import KMeans\n",
    "\n",
    "# モデルを初期化\n",
    "km =KMeans(n_clusters=3, random_state=1234)\n",
    "\n",
    "# 学習は教師あり学習と同じように　model.fit(data)で実行します\n",
    "km.fit(data)\n",
    "\n",
    "# ラベルを付与する場合も教師あり学習同様に model.predict(data)で実行します\n",
    "cluster_label = km.predict(data)"
   ]
  },
  {
   "cell_type": "code",
   "execution_count": 10,
   "metadata": {},
   "outputs": [],
   "source": [
    "import copy\n",
    "\n",
    "data_with_cluster_label = copy.copy(data)\n",
    "data_with_cluster_label['cluster_label'] = cluster_label"
   ]
  },
  {
   "cell_type": "code",
   "execution_count": 11,
   "metadata": {
    "scrolled": true
   },
   "outputs": [
    {
     "data": {
      "text/html": [
       "<div>\n",
       "<style scoped>\n",
       "    .dataframe tbody tr th:only-of-type {\n",
       "        vertical-align: middle;\n",
       "    }\n",
       "\n",
       "    .dataframe tbody tr th {\n",
       "        vertical-align: top;\n",
       "    }\n",
       "\n",
       "    .dataframe thead th {\n",
       "        text-align: right;\n",
       "    }\n",
       "</style>\n",
       "<table border=\"1\" class=\"dataframe\">\n",
       "  <thead>\n",
       "    <tr style=\"text-align: right;\">\n",
       "      <th></th>\n",
       "      <th>平日：00:00-06:00</th>\n",
       "      <th>平日：06:00-12:00</th>\n",
       "      <th>平日：12:00-18:00</th>\n",
       "      <th>平日：18:00-24:00</th>\n",
       "      <th>週末：00:00-06:00</th>\n",
       "      <th>週末：06:00-12:00</th>\n",
       "      <th>週末：12:00-18:00</th>\n",
       "      <th>週末：18:00-24:00</th>\n",
       "      <th>テクノロジー</th>\n",
       "      <th>経済・政治</th>\n",
       "      <th>...</th>\n",
       "      <th>国際</th>\n",
       "      <th>アニメ</th>\n",
       "      <th>性別_男性</th>\n",
       "      <th>年代_10</th>\n",
       "      <th>年代_20</th>\n",
       "      <th>年代_30</th>\n",
       "      <th>年代_40</th>\n",
       "      <th>年代_50</th>\n",
       "      <th>年代_60</th>\n",
       "      <th>cluster_label</th>\n",
       "    </tr>\n",
       "  </thead>\n",
       "  <tbody>\n",
       "    <tr>\n",
       "      <th>0</th>\n",
       "      <td>1</td>\n",
       "      <td>1</td>\n",
       "      <td>10</td>\n",
       "      <td>0</td>\n",
       "      <td>1</td>\n",
       "      <td>1</td>\n",
       "      <td>1</td>\n",
       "      <td>1</td>\n",
       "      <td>1</td>\n",
       "      <td>1</td>\n",
       "      <td>...</td>\n",
       "      <td>1</td>\n",
       "      <td>1</td>\n",
       "      <td>0</td>\n",
       "      <td>0</td>\n",
       "      <td>0</td>\n",
       "      <td>1</td>\n",
       "      <td>0</td>\n",
       "      <td>0</td>\n",
       "      <td>0</td>\n",
       "      <td>2</td>\n",
       "    </tr>\n",
       "    <tr>\n",
       "      <th>1</th>\n",
       "      <td>12</td>\n",
       "      <td>1</td>\n",
       "      <td>1</td>\n",
       "      <td>1</td>\n",
       "      <td>1</td>\n",
       "      <td>1</td>\n",
       "      <td>5</td>\n",
       "      <td>0</td>\n",
       "      <td>3</td>\n",
       "      <td>1</td>\n",
       "      <td>...</td>\n",
       "      <td>1</td>\n",
       "      <td>11</td>\n",
       "      <td>0</td>\n",
       "      <td>0</td>\n",
       "      <td>0</td>\n",
       "      <td>1</td>\n",
       "      <td>0</td>\n",
       "      <td>0</td>\n",
       "      <td>0</td>\n",
       "      <td>1</td>\n",
       "    </tr>\n",
       "    <tr>\n",
       "      <th>2</th>\n",
       "      <td>1</td>\n",
       "      <td>5</td>\n",
       "      <td>1</td>\n",
       "      <td>1</td>\n",
       "      <td>1</td>\n",
       "      <td>5</td>\n",
       "      <td>1</td>\n",
       "      <td>1</td>\n",
       "      <td>1</td>\n",
       "      <td>3</td>\n",
       "      <td>...</td>\n",
       "      <td>4</td>\n",
       "      <td>1</td>\n",
       "      <td>0</td>\n",
       "      <td>0</td>\n",
       "      <td>0</td>\n",
       "      <td>0</td>\n",
       "      <td>1</td>\n",
       "      <td>0</td>\n",
       "      <td>0</td>\n",
       "      <td>0</td>\n",
       "    </tr>\n",
       "    <tr>\n",
       "      <th>3</th>\n",
       "      <td>10</td>\n",
       "      <td>1</td>\n",
       "      <td>1</td>\n",
       "      <td>1</td>\n",
       "      <td>1</td>\n",
       "      <td>0</td>\n",
       "      <td>5</td>\n",
       "      <td>1</td>\n",
       "      <td>2</td>\n",
       "      <td>1</td>\n",
       "      <td>...</td>\n",
       "      <td>1</td>\n",
       "      <td>10</td>\n",
       "      <td>0</td>\n",
       "      <td>0</td>\n",
       "      <td>1</td>\n",
       "      <td>0</td>\n",
       "      <td>0</td>\n",
       "      <td>0</td>\n",
       "      <td>0</td>\n",
       "      <td>1</td>\n",
       "    </tr>\n",
       "    <tr>\n",
       "      <th>4</th>\n",
       "      <td>1</td>\n",
       "      <td>1</td>\n",
       "      <td>12</td>\n",
       "      <td>1</td>\n",
       "      <td>0</td>\n",
       "      <td>1</td>\n",
       "      <td>1</td>\n",
       "      <td>1</td>\n",
       "      <td>1</td>\n",
       "      <td>1</td>\n",
       "      <td>...</td>\n",
       "      <td>1</td>\n",
       "      <td>1</td>\n",
       "      <td>0</td>\n",
       "      <td>0</td>\n",
       "      <td>0</td>\n",
       "      <td>1</td>\n",
       "      <td>0</td>\n",
       "      <td>0</td>\n",
       "      <td>0</td>\n",
       "      <td>2</td>\n",
       "    </tr>\n",
       "  </tbody>\n",
       "</table>\n",
       "<p>5 rows × 21 columns</p>\n",
       "</div>"
      ],
      "text/plain": [
       "   平日：00:00-06:00  平日：06:00-12:00  平日：12:00-18:00  平日：18:00-24:00  \\\n",
       "0               1               1              10               0   \n",
       "1              12               1               1               1   \n",
       "2               1               5               1               1   \n",
       "3              10               1               1               1   \n",
       "4               1               1              12               1   \n",
       "\n",
       "   週末：00:00-06:00  週末：06:00-12:00  週末：12:00-18:00  週末：18:00-24:00  テクノロジー  \\\n",
       "0               1               1               1               1       1   \n",
       "1               1               1               5               0       3   \n",
       "2               1               5               1               1       1   \n",
       "3               1               0               5               1       2   \n",
       "4               0               1               1               1       1   \n",
       "\n",
       "   経済・政治      ...        国際  アニメ  性別_男性  年代_10  年代_20  年代_30  年代_40  年代_50  \\\n",
       "0      1      ...         1    1      0      0      0      1      0      0   \n",
       "1      1      ...         1   11      0      0      0      1      0      0   \n",
       "2      3      ...         4    1      0      0      0      0      1      0   \n",
       "3      1      ...         1   10      0      0      1      0      0      0   \n",
       "4      1      ...         1    1      0      0      0      1      0      0   \n",
       "\n",
       "   年代_60  cluster_label  \n",
       "0      0              2  \n",
       "1      0              1  \n",
       "2      0              0  \n",
       "3      0              1  \n",
       "4      0              2  \n",
       "\n",
       "[5 rows x 21 columns]"
      ]
     },
     "execution_count": 11,
     "metadata": {},
     "output_type": "execute_result"
    }
   ],
   "source": [
    "# ラベルが付与されているか確認\n",
    "data_with_cluster_label.head()"
   ]
  },
  {
   "cell_type": "markdown",
   "metadata": {},
   "source": [
    "## ElbowMethodで最適なクラスター数を求めてみましょう"
   ]
  },
  {
   "cell_type": "code",
   "execution_count": 12,
   "metadata": {},
   "outputs": [
    {
     "data": {
      "image/png": "[encoded data removed]",
      "text/plain": [
       "<Figure size 432x288 with 1 Axes>"
      ]
     },
     "metadata": {
      "needs_background": "light"
     },
     "output_type": "display_data"
    }
   ],
   "source": [
    "distortions = []\n",
    "\n",
    "for i  in range(1,15):                # 1~15クラスタまで計算 \n",
    "    km = KMeans(n_clusters=i, random_state=0)\n",
    "    km.fit(data)                       # クラスタリングの計算を実行\n",
    "    distortions.append(km.inertia_)   # km.fitするとkm.inertia_が得られる\n",
    "\n",
    "plt.plot(range(1,15),distortions,marker='o')\n",
    "plt.xlabel('Number of clusters')\n",
    "plt.ylabel('Distortion')\n",
    "plt.show()"
   ]
  },
  {
   "cell_type": "markdown",
   "metadata": {},
   "source": [
    "どうやら、クラスタ数は4~5が良さそうです。 <br>\n",
    "クラスタ数5で、再度クラスタリングしてみましょう"
   ]
  },
  {
   "cell_type": "code",
   "execution_count": 13,
   "metadata": {},
   "outputs": [],
   "source": [
    "km =KMeans(n_clusters=5, random_state=1234)\n",
    "km.fit(data)\n",
    "cluster_label = km.predict(data)"
   ]
  },
  {
   "cell_type": "code",
   "execution_count": 14,
   "metadata": {},
   "outputs": [],
   "source": [
    "data_with_cluster_label = copy.copy(data)\n",
    "data_with_cluster_label['cluster_label'] = cluster_label"
   ]
  },
  {
   "cell_type": "markdown",
   "metadata": {},
   "source": [
    "クラスター別にどんな傾向があるか解釈してみましょう"
   ]
  },
  {
   "cell_type": "code",
   "execution_count": 15,
   "metadata": {},
   "outputs": [],
   "source": [
    "data_with_cluster_label.to_excel(\"data/kmeans_result.xlsx\", index=False, encoding='cp932')"
   ]
  },
  {
   "cell_type": "markdown",
   "metadata": {},
   "source": [
    "## ここからが次元削減です。\n",
    "\n",
    "今回は、主成分分析を行ってみましょう"
   ]
  },
  {
   "cell_type": "markdown",
   "metadata": {},
   "source": [
    "### 主成分分析（PCA）による次元削減"
   ]
  },
  {
   "cell_type": "code",
   "execution_count": 16,
   "metadata": {},
   "outputs": [],
   "source": [
    "from sklearn.decomposition import PCA\n",
    "\n",
    "# n_components で削減後の次元数を指定します\n",
    "X_reduced = PCA(n_components=2, random_state=0).fit_transform(data)"
   ]
  },
  {
   "cell_type": "markdown",
   "metadata": {},
   "source": [
    "### 次元削減された行列をKmeansでクラスタリング"
   ]
  },
  {
   "cell_type": "code",
   "execution_count": 17,
   "metadata": {},
   "outputs": [],
   "source": [
    "# Kmeansでクラスターラベルを付与します\n",
    "from sklearn.cluster import KMeans\n",
    "\n",
    "km =KMeans(n_clusters=5, random_state=1234)\n",
    "km.fit(X_reduced)\n",
    "\n",
    "cluster_label = km.predict(X_reduced)"
   ]
  },
  {
   "cell_type": "markdown",
   "metadata": {},
   "source": [
    "### ElbowMethodで最適なクラスター数を確認"
   ]
  },
  {
   "cell_type": "code",
   "execution_count": 18,
   "metadata": {},
   "outputs": [
    {
     "data": {
      "image/png": "[encoded data removed]",
      "text/plain": [
       "<Figure size 432x288 with 1 Axes>"
      ]
     },
     "metadata": {
      "needs_background": "light"
     },
     "output_type": "display_data"
    }
   ],
   "source": [
    "# Enter your code\n",
    "distortions = []\n",
    "\n",
    "for i  in range(1,15):   \n",
    "    km = KMeans(n_clusters = i,\n",
    "                init = 'random',     \n",
    "                n_init = 20,\n",
    "                max_iter = 300,\n",
    "                random_state = 0)\n",
    "    km.fit(data)                       \n",
    "    distortions.append(km.inertia_) \n",
    "\n",
    "plt.plot(range(1,15),distortions,marker = 'o')\n",
    "plt.xlabel('Number of clusters')\n",
    "plt.ylabel('Distortion')\n",
    "plt.show()"
   ]
  },
  {
   "cell_type": "markdown",
   "metadata": {},
   "source": [
    "クラスタ数は5が良さそうに見受けられますね"
   ]
  },
  {
   "cell_type": "code",
   "execution_count": 19,
   "metadata": {
    "scrolled": false
   },
   "outputs": [
    {
     "data": {
      "text/plain": [
       "<matplotlib.colorbar.Colorbar at 0x1a1d13a208>"
      ]
     },
     "execution_count": 19,
     "metadata": {},
     "output_type": "execute_result"
    },
    {
     "data": {
      "image/png": "[encoded data removed]",
      "text/plain": [
       "<Figure size 432x288 with 2 Axes>"
      ]
     },
     "metadata": {
      "needs_background": "light"
     },
     "output_type": "display_data"
    }
   ],
   "source": [
    "# (参考)\n",
    "# 2次元まで削減したので、散布図で描画してみます\n",
    "plt.scatter(X_reduced[:, 0], X_reduced[:, 1], c=cluster_label)\n",
    "plt.colorbar()"
   ]
  },
  {
   "cell_type": "code",
   "execution_count": 20,
   "metadata": {},
   "outputs": [],
   "source": [
    "data_with_cluster_label_pca = copy.copy(data)\n",
    "data_with_cluster_label_pca['cluster_label'] = cluster_label"
   ]
  },
  {
   "cell_type": "code",
   "execution_count": 21,
   "metadata": {},
   "outputs": [],
   "source": [
    "data_with_cluster_label_pca.to_excel(\"data/kmeans_result_with_pca.xlsx\", index=False, encoding='cp932')"
   ]
  },
  {
   "cell_type": "markdown",
   "metadata": {},
   "source": [
    "### (参考) 寄与率"
   ]
  },
  {
   "cell_type": "code",
   "execution_count": 22,
   "metadata": {
    "scrolled": false
   },
   "outputs": [
    {
     "data": {
      "image/png": "[encoded data removed]",
      "text/plain": [
       "<Figure size 720x360 with 1 Axes>"
      ]
     },
     "metadata": {
      "needs_background": "light"
     },
     "output_type": "display_data"
    }
   ],
   "source": [
    "# 寄与率を求めます\n",
    "\n",
    "pca = PCA(n_components=6)\n",
    "pca.fit(data)\n",
    "\n",
    "x = ['PC%02s' %i for i in range(1, len(pca.explained_variance_ratio_)+1)]\n",
    "y = pca.explained_variance_ratio_\n",
    "cum_y = np.cumsum(y)\n",
    "plt.figure(figsize=(10,5))\n",
    "plt.bar(x, y, align=\"center\", color=\"blue\")\n",
    "plt.plot(x, cum_y, color=\"magenta\", marker=\"o\")\n",
    "for i, j in zip(x, y):\n",
    "    plt.text(i, j, '%.2f' % j, ha='center', va='bottom', fontsize=12)\n",
    "plt.ylim([0,1])\n",
    "plt.ylabel('Percentage of variance explained', fontsize = 14)\n",
    "plt.tick_params(labelsize = 14)\n",
    "plt.tight_layout()\n",
    "plt.grid()\n",
    "plt.show()"
   ]
  }
 ],
 "metadata": {
  "kernelspec": {
   "display_name": "Python 3",
   "language": "python",
   "name": "python3"
  },
  "language_info": {
   "codemirror_mode": {
    "name": "ipython",
    "version": 3
   },
   "file_extension": ".py",
   "mimetype": "text/x-python",
   "name": "python",
   "nbconvert_exporter": "python",
   "pygments_lexer": "ipython3",
   "version": "3.7.1"
  },
  "varInspector": {
   "cols": {
    "lenName": 16,
    "lenType": 16,
    "lenVar": 40
   },
   "kernels_config": {
    "python": {
     "delete_cmd_postfix": "",
     "delete_cmd_prefix": "del ",
     "library": "var_list.py",
     "varRefreshCmd": "print(var_dic_list())"
    },
    "r": {
     "delete_cmd_postfix": ") ",
     "delete_cmd_prefix": "rm(",
     "library": "var_list.r",
     "varRefreshCmd": "cat(var_dic_list()) "
    }
   },
   "types_to_exclude": [
    "module",
    "function",
    "builtin_function_or_method",
    "instance",
    "_Feature"
   ],
   "window_display": false
  }
 },
 "nbformat": 4,
 "nbformat_minor": 2
}
