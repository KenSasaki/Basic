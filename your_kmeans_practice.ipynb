{
 "cells": [
  {
   "cell_type": "markdown",
   "metadata": {},
   "source": [
    "# 復習用\n",
    "#  K-Means法を実装しよう!"
   ]
  },
  {
   "cell_type": "markdown",
   "metadata": {},
   "source": [
    "復習のために、授業で習ったyourKmeas関数をもう一度実装してみましょう"
   ]
  },
  {
   "cell_type": "code",
   "execution_count": null,
   "metadata": {},
   "outputs": [],
   "source": [
    "%matplotlib inline\n",
    "import numpy as np\n",
    "import matplotlib.pyplot as plt"
   ]
  },
  {
   "cell_type": "markdown",
   "metadata": {},
   "source": [
    "K-Means法を実装するにあたり、まず1500個のダミーデータを用意します。<br>\n",
    "__以下のコードを覚える必要はありません！__"
   ]
  },
  {
   "cell_type": "code",
   "execution_count": null,
   "metadata": {},
   "outputs": [],
   "source": [
    "def generate_2dim_normal(mean, variance, covariance, sample_size):\n",
    "    cov = [[variance,covariance],\n",
    "           [covariance,variance]]\n",
    "    return np.random.multivariate_normal(mean, cov, sample_size)\n",
    "\n",
    "cluster1 = generate_2dim_normal(mean = [2, 8], variance=1, covariance=0, sample_size=500)\n",
    "cluster2 = generate_2dim_normal(mean = [-1, 1], variance=1, covariance=0, sample_size=500)\n",
    "cluster3 = generate_2dim_normal(mean = [10, 10], variance=1, covariance=0, sample_size=300)\n",
    "cluster4 = generate_2dim_normal(mean = [5, 0], variance=0.8, covariance=-0.1, sample_size=200)\n",
    "data = np.vstack((cluster1, cluster2, cluster3, cluster4))\n",
    "\n",
    "fig = plt.figure()\n",
    "ax = fig.add_subplot(1,1,1)\n",
    "ax.scatter(data[:,0], data[:,1])\n",
    "ax.set_title(u\" scatter plot\")\n",
    "ax.set_xlabel(\"Cost\")\n",
    "ax.set_ylabel(\"Sales\")"
   ]
  },
  {
   "cell_type": "code",
   "execution_count": null,
   "metadata": {},
   "outputs": [],
   "source": [
    "def yourKmeans(data, cluster_num, max_iter):\n",
    "    pass"
   ]
  },
  {
   "cell_type": "code",
   "execution_count": null,
   "metadata": {},
   "outputs": [],
   "source": [
    "cluster_num = 4\n",
    "cluster_labels = yourKmeans(data=data, cluster_num=cluster_num, max_iter=100)"
   ]
  },
  {
   "cell_type": "code",
   "execution_count": null,
   "metadata": {},
   "outputs": [],
   "source": [
    "def cluter_visualize(data, cluster_labels):\n",
    "\n",
    "    fig = plt.figure()\n",
    "    ax = fig.add_subplot(1,1,1)\n",
    "    colorlist = [\"r\", \"g\", \"b\", \"c\", \"m\", \"y\", \"k\", \"w\"]\n",
    "    cluster_ids = list(set(cluster_labels))\n",
    "    for k in range(len(cluster_ids)):\n",
    "        cluster_id = cluster_ids[k]\n",
    "        label_ = \"clutser = %d\"%cluster_id\n",
    "        data_by_cluster = data[cluster_labels == cluster_id]\n",
    "        ax.scatter(data_by_cluster[:,0], data_by_cluster[:,1], c=colorlist[k], label = label_)\n",
    "\n",
    "    ax.set_title(u\"Clustering\")\n",
    "    ax.set_xlabel(\"x1\")\n",
    "    ax.set_ylabel(\"x2\")\n",
    "    ax.legend(loc='lower right')"
   ]
  },
  {
   "cell_type": "code",
   "execution_count": null,
   "metadata": {},
   "outputs": [],
   "source": [
    "cluter_visualize(data=data, cluster_labels=cluster_labels)"
   ]
  }
 ],
 "metadata": {
  "kernelspec": {
   "display_name": "Python 3",
   "language": "python",
   "name": "python3"
  },
  "language_info": {
   "codemirror_mode": {
    "name": "ipython",
    "version": 3
   },
   "file_extension": ".py",
   "mimetype": "text/x-python",
   "name": "python",
   "nbconvert_exporter": "python",
   "pygments_lexer": "ipython3",
   "version": "3.7.3"
  },
  "varInspector": {
   "cols": {
    "lenName": 16,
    "lenType": 16,
    "lenVar": 40
   },
   "kernels_config": {
    "python": {
     "delete_cmd_postfix": "",
     "delete_cmd_prefix": "del ",
     "library": "var_list.py",
     "varRefreshCmd": "print(var_dic_list())"
    },
    "r": {
     "delete_cmd_postfix": ") ",
     "delete_cmd_prefix": "rm(",
     "library": "var_list.r",
     "varRefreshCmd": "cat(var_dic_list()) "
    }
   },
   "types_to_exclude": [
    "module",
    "function",
    "builtin_function_or_method",
    "instance",
    "_Feature"
   ],
   "window_display": false
  }
 },
 "nbformat": 4,
 "nbformat_minor": 2
}
